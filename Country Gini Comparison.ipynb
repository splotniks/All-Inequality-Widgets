{
 "cells": [
  {
   "cell_type": "code",
   "execution_count": 1,
   "id": "8e73ae9d",
   "metadata": {},
   "outputs": [],
   "source": [
    "import inequality_widget as iw"
   ]
  },
  {
   "cell_type": "code",
   "execution_count": 2,
   "id": "e33b18f2",
   "metadata": {},
   "outputs": [
    {
     "data": {
      "application/vnd.jupyter.widget-view+json": {
       "model_id": "d589c9cc8b3d4e08af706b0dae70e4b6",
       "version_major": 2,
       "version_minor": 0
      },
      "text/plain": [
       "VBox(children=(HTML(value='Select the number of societies you would like to compare\\n                    <p><e…"
      ]
     },
     "metadata": {},
     "output_type": "display_data"
    }
   ],
   "source": [
    "count = iw.Counter.create(2)\n",
    "count.container"
   ]
  },
  {
   "cell_type": "code",
   "execution_count": 3,
   "id": "9b07cec8",
   "metadata": {},
   "outputs": [
    {
     "data": {
      "application/vnd.jupyter.widget-view+json": {
       "model_id": "89687bc1712c43c8a91d76d5f435f161",
       "version_major": 2,
       "version_minor": 0
      },
      "text/plain": [
       "VBox(children=(HTML(value='<h1>Compare Ginis over time</h1>\\n                    <p><em></em><p>\\n            …"
      ]
     },
     "metadata": {},
     "output_type": "display_data"
    }
   ],
   "source": [
    "iw.CountryGinis.create(count._num).container"
   ]
  },
  {
   "cell_type": "code",
   "execution_count": null,
   "id": "ec74765e",
   "metadata": {},
   "outputs": [],
   "source": []
  }
 ],
 "metadata": {
  "kernelspec": {
   "display_name": "Python 3",
   "language": "python",
   "name": "python3"
  },
  "language_info": {
   "codemirror_mode": {
    "name": "ipython",
    "version": 3
   },
   "file_extension": ".py",
   "mimetype": "text/x-python",
   "name": "python",
   "nbconvert_exporter": "python",
   "pygments_lexer": "ipython3",
   "version": "3.7.4"
  },
  "widgets": {
   "application/vnd.jupyter.widget-state+json": {
    "state": {
     "0039c4145ff34a1185f1d37c8e0684c5": {
      "model_module": "@jupyter-widgets/base",
      "model_module_version": "1.2.0",
      "model_name": "LayoutModel",
      "state": {}
     },
     "00c2d53632a849d592d96b478b08c7a6": {
      "model_module": "@jupyter-widgets/base",
      "model_module_version": "1.2.0",
      "model_name": "LayoutModel",
      "state": {
       "flex": "1 1 auto",
       "margin": "0 auto 0 auto",
       "max_width": "1024px"
      }
     },
     "00df9fe27c0544f7816983bca76b8af0": {
      "model_module": "@jupyter-widgets/controls",
      "model_module_version": "1.5.0",
      "model_name": "DescriptionStyleModel",
      "state": {
       "description_width": ""
      }
     },
     "02eeecd694314acf9c4e2a723716f4d7": {
      "model_module": "@jupyter-widgets/controls",
      "model_module_version": "1.5.0",
      "model_name": "DescriptionStyleModel",
      "state": {
       "description_width": ""
      }
     },
     "038b86ac492d48dfacf00704c2818381": {
      "model_module": "@jupyter-widgets/base",
      "model_module_version": "1.2.0",
      "model_name": "LayoutModel",
      "state": {
       "margin": "0 0 4em 0"
      }
     },
     "06df8e49ddf042feafb738e78d577b23": {
      "model_module": "@jupyter-widgets/controls",
      "model_module_version": "1.5.0",
      "model_name": "VBoxModel",
      "state": {
       "children": [
        "IPY_MODEL_c4a23bc6490546dd92388b37cdb8fd9f",
        "IPY_MODEL_63b452afd9dc4a2a8b451fd55d16ff9d"
       ],
       "layout": "IPY_MODEL_9f17f523f37948ee9845b5f27cc1c690"
      }
     },
     "07119d993d9c4dedb6d397504189e8ff": {
      "model_module": "@jupyter-widgets/controls",
      "model_module_version": "1.5.0",
      "model_name": "DescriptionStyleModel",
      "state": {
       "description_width": ""
      }
     },
     "07f540fe43b84289a6b6d5380fc8e1f7": {
      "model_module": "@jupyter-widgets/controls",
      "model_module_version": "1.5.0",
      "model_name": "VBoxModel",
      "state": {
       "children": [
        "IPY_MODEL_1551312075f34cc7bd26082355d827d3",
        "IPY_MODEL_5e4c052c39f24d36b94e638474dc0bf5"
       ],
       "layout": "IPY_MODEL_c363e768b5d3446fa64109e8ce6d5a80"
      }
     },
     "08232906f4684463af683996ad2b0a68": {
      "model_module": "@jupyter-widgets/base",
      "model_module_version": "1.2.0",
      "model_name": "LayoutModel",
      "state": {}
     },
     "088f22e2e287406994c7a425abded858": {
      "model_module": "@jupyter-widgets/output",
      "model_module_version": "1.0.0",
      "model_name": "OutputModel",
      "state": {
       "layout": "IPY_MODEL_df7451b88b60426d95a7ce8f7d14daef",
       "outputs": [
        {
         "data": {
          "text/plain": "<Figure size 1000x700 with 1 Axes>"
         },
         "metadata": {},
         "output_type": "display_data"
        }
       ]
      }
     },
     "09b66307ff004234b0c8328d3180fa94": {
      "model_module": "@jupyter-widgets/base",
      "model_module_version": "1.2.0",
      "model_name": "LayoutModel",
      "state": {}
     },
     "09fb9a6e77ce4503a5d561265d260ea4": {
      "model_module": "@jupyter-widgets/controls",
      "model_module_version": "1.5.0",
      "model_name": "LabelModel",
      "state": {
       "layout": "IPY_MODEL_665fe343515443dc92c77975222b920f",
       "style": "IPY_MODEL_290388bd33f349b0a0cb5da7c8764773",
       "value": "Year range: "
      }
     },
     "0a4cb823ad14413498a2f61108ac3fec": {
      "model_module": "@jupyter-widgets/controls",
      "model_module_version": "1.5.0",
      "model_name": "VBoxModel",
      "state": {
       "children": [
        "IPY_MODEL_72ec52970cc341e8a846cf31eb2adb8a",
        "IPY_MODEL_d1b045f60fee42ffa25f54850226e592"
       ],
       "layout": "IPY_MODEL_eb82448a3f3e4d77ac6a5e2f18e88af6"
      }
     },
     "0afabe4abb864aae9a2008e0859c83ef": {
      "model_module": "@jupyter-widgets/base",
      "model_module_version": "1.2.0",
      "model_name": "LayoutModel",
      "state": {}
     },
     "0c37c4af168342a6a1e6ee7096504f41": {
      "model_module": "@jupyter-widgets/output",
      "model_module_version": "1.0.0",
      "model_name": "OutputModel",
      "state": {
       "layout": "IPY_MODEL_73e6ecd354da476b812881fdd9dc3f95",
       "outputs": [
        {
         "data": {
          "text/plain": "<Figure size 1000x700 with 1 Axes>"
         },
         "metadata": {},
         "output_type": "display_data"
        }
       ]
      }
     },
     "0d64b24ab7b34a68b11cf9a24630fe34": {
      "model_module": "@jupyter-widgets/base",
      "model_module_version": "1.2.0",
      "model_name": "LayoutModel",
      "state": {}
     },
     "0e46d01f02324fee8a5049ad6777f66c": {
      "model_module": "@jupyter-widgets/controls",
      "model_module_version": "1.5.0",
      "model_name": "DescriptionStyleModel",
      "state": {
       "description_width": ""
      }
     },
     "11380ba5a44a4bbc9fa7d68241e394f4": {
      "model_module": "@jupyter-widgets/controls",
      "model_module_version": "1.5.0",
      "model_name": "DescriptionStyleModel",
      "state": {
       "description_width": ""
      }
     },
     "113d26f1d505471faaa0ea6e08d465f6": {
      "model_module": "@jupyter-widgets/controls",
      "model_module_version": "1.5.0",
      "model_name": "DropdownModel",
      "state": {
       "_options_labels": [
        "Afghanistan",
        "Albania",
        "Algeria",
        "Angola",
        "Argentina",
        "Armenia",
        "Australia",
        "Austria",
        "Azerbaijan",
        "Bangladesh",
        "Belarus",
        "Belgium",
        "Benin",
        "Bhutan",
        "Bolivia",
        "Bosnia and Herzegovina",
        "Botswana",
        "Brazil",
        "Bulgaria",
        "Burkina Faso",
        "Burundi",
        "Cambodia",
        "Cameroon",
        "Canada",
        "Central African Republic",
        "Chad",
        "Chile",
        "China",
        "Colombia",
        "Comoros",
        "Congo, Dem. Rep.",
        "Congo, Rep.",
        "Costa Rica",
        "Cote d'Ivoire",
        "Croatia",
        "Cyprus",
        "Czech Republic",
        "Denmark",
        "Djibouti",
        "Dominican Republic",
        "Ecuador",
        "Egypt",
        "El Salvador",
        "Estonia",
        "Ethiopia",
        "Fiji",
        "Finland",
        "France",
        "Gabon",
        "Gambia",
        "Georgia",
        "Germany",
        "Ghana",
        "Greece",
        "Guatemala",
        "Guinea",
        "Guinea-Bissau",
        "Guyana",
        "Haiti",
        "Honduras",
        "Hungary",
        "India",
        "Indonesia",
        "Iran",
        "Ireland",
        "Israel",
        "Italy",
        "Jamaica",
        "Japan",
        "Jordan",
        "Kazakhstan",
        "Kenya",
        "Korea, Rep.",
        "Kosovo",
        "Kyrgyz Republic",
        "Lao",
        "Latvia",
        "Lesotho",
        "Liberia",
        "Lithuania",
        "Macedonia, FYR",
        "Madagascar",
        "Malawi",
        "Malaysia",
        "Mali",
        "Mauritania",
        "Mauritius",
        "Mexico",
        "Moldova",
        "Mongolia",
        "Morocco",
        "Mozambique",
        "Myanmar",
        "Namibia",
        "Nepal",
        "Netherlands",
        "Nicaragua",
        "Niger",
        "Nigeria",
        "Norway",
        "Pakistan",
        "Panama",
        "Papua New Guinea",
        "Paraguay",
        "Peru",
        "Philippines",
        "Poland",
        "Portugal",
        "Romania",
        "Russian Federation",
        "Rwanda",
        "Senegal",
        "Serbia",
        "Sierra Leone",
        "Singapore",
        "Slovak Republic",
        "Slovenia",
        "South Africa",
        "Spain",
        "Sri Lanka",
        "Sudan",
        "Swaziland",
        "Sweden",
        "Switzerland",
        "Syrian Arab Republic",
        "Taiwan",
        "Tajikistan",
        "Tanzania",
        "Thailand",
        "Timor-Leste",
        "Togo",
        "Trinidad and Tobago",
        "Tunisia",
        "Turkey",
        "Turkmenistan",
        "Ukraine",
        "United Kingdom",
        "United States",
        "Uruguay",
        "Uzbekistan",
        "Venezuela",
        "Vietnam",
        "West Bank and Gaza",
        "Zambia"
       ],
       "index": 137,
       "layout": "IPY_MODEL_d73b9f37be7645ff9d4218e98c359962",
       "style": "IPY_MODEL_952972ba2a904a319a2a1d98423455b5"
      }
     },
     "139a3883e317486288c068df556bbccf": {
      "model_module": "@jupyter-widgets/controls",
      "model_module_version": "1.5.0",
      "model_name": "DropdownModel",
      "state": {
       "_options_labels": [
        "1",
        "2",
        "3",
        "4",
        "5",
        "6",
        "7",
        "8",
        "9",
        "10"
       ],
       "index": 0,
       "layout": "IPY_MODEL_08232906f4684463af683996ad2b0a68",
       "style": "IPY_MODEL_2a6fb56746e44ed0aa97591ff328a79b"
      }
     },
     "1404d3ed86cd4311b9aca237e444748f": {
      "model_module": "@jupyter-widgets/base",
      "model_module_version": "1.2.0",
      "model_name": "LayoutModel",
      "state": {}
     },
     "1537723605d848f4bbde7769a8e9cd62": {
      "model_module": "@jupyter-widgets/controls",
      "model_module_version": "1.5.0",
      "model_name": "HBoxModel",
      "state": {
       "children": [
        "IPY_MODEL_b090c93e3b9647919d3e5c05bc9d1396",
        "IPY_MODEL_d64419011e9f44c9aea16ec4ed9142da"
       ],
       "layout": "IPY_MODEL_1a124c2cd2a147c996d110f6b826630c"
      }
     },
     "1551312075f34cc7bd26082355d827d3": {
      "model_module": "@jupyter-widgets/controls",
      "model_module_version": "1.5.0",
      "model_name": "HTMLModel",
      "state": {
       "layout": "IPY_MODEL_29263392db10464c848542c2e8a53c0e",
       "style": "IPY_MODEL_f138c51c92f34f20a0b3dbe14a4dfdeb",
       "value": "<h1>Create your own LCs from income distributions</h1>\n                    <p><em>Enter in the income distribution for each society, values seperated by a space</em><p>\n                    \n                    <br>The starting distribution is a three person society where the respective incomes are $1, $2, and $3. The total income is $6. \n                    \n                    <br>The first person controls 17% of the income and is 33% of the population share. The first and second hold a cumulative 50% of the income at 67% of the population.\n\n                    <br>The income distributions do not need to be in order, they can have different numbers of people and different total income.\n                    \n                    <br>To change the number of societies, change the number above and rerun this block. \n\n                    "
      }
     },
     "174894fbd6b34e0186f4da0fe7375b89": {
      "model_module": "@jupyter-widgets/controls",
      "model_module_version": "1.5.0",
      "model_name": "HBoxModel",
      "state": {
       "children": [
        "IPY_MODEL_9d4b804676f44760b99e90bb85aa8cc2"
       ],
       "layout": "IPY_MODEL_6eb93d09be4449a1babdf385c7d4412b"
      }
     },
     "17a9694972454864b9851300c4f61b22": {
      "model_module": "@jupyter-widgets/base",
      "model_module_version": "1.2.0",
      "model_name": "LayoutModel",
      "state": {}
     },
     "1833b3095ec7486ebbe9a45729d06ab6": {
      "model_module": "@jupyter-widgets/controls",
      "model_module_version": "1.5.0",
      "model_name": "HBoxModel",
      "state": {
       "children": [
        "IPY_MODEL_89141ab3742c4747bbf17dde15f9913a"
       ],
       "layout": "IPY_MODEL_1404d3ed86cd4311b9aca237e444748f"
      }
     },
     "18abdb44a2bd4711849b2d80dc5ca6c2": {
      "model_module": "@jupyter-widgets/base",
      "model_module_version": "1.2.0",
      "model_name": "LayoutModel",
      "state": {
       "flex": "1 1 auto",
       "margin": "0 auto 0 auto",
       "max_width": "1024px"
      }
     },
     "18d703e745324ee4a671ba1ab6c0c3f2": {
      "model_module": "@jupyter-widgets/controls",
      "model_module_version": "1.5.0",
      "model_name": "HBoxModel",
      "state": {
       "children": [
        "IPY_MODEL_113d26f1d505471faaa0ea6e08d465f6",
        "IPY_MODEL_529eb99d601c4616970d7e360ff88738"
       ],
       "layout": "IPY_MODEL_c9c2214119fd4a4286531c4857bcc08c"
      }
     },
     "19a1a6d6f8ef4c098558eea46d2c1b19": {
      "model_module": "@jupyter-widgets/controls",
      "model_module_version": "1.5.0",
      "model_name": "DropdownModel",
      "state": {
       "_options_labels": [
        "Afghanistan",
        "Albania",
        "Algeria",
        "Angola",
        "Argentina",
        "Armenia",
        "Australia",
        "Austria",
        "Azerbaijan",
        "Bangladesh",
        "Belarus",
        "Belgium",
        "Benin",
        "Bolivia",
        "Botswana",
        "Brazil",
        "Bulgaria",
        "Burkina Faso",
        "Burundi",
        "Cambodia",
        "Cameroon",
        "Canada",
        "Central African Republic",
        "Chad",
        "Chile",
        "China",
        "Colombia",
        "Congo, Dem. Rep.",
        "Congo, Rep.",
        "Costa Rica",
        "Cote d'Ivoire",
        "Croatia",
        "Czech Republic",
        "Denmark",
        "Dominican Republic",
        "Ecuador",
        "Egypt",
        "El Salvador",
        "Estonia",
        "Ethiopia",
        "Finland",
        "France",
        "Germany",
        "Ghana",
        "Greece",
        "Guatemala",
        "Guinea",
        "Guinea-Bissau",
        "Haiti",
        "Honduras",
        "Hungary",
        "India",
        "Indonesia",
        "Iran",
        "Ireland",
        "Israel",
        "Italy",
        "Jamaica",
        "Japan",
        "Jordan",
        "Kazakhstan",
        "Kenya",
        "Korea, Rep.",
        "Kyrgyz Republic",
        "Lao",
        "Latvia",
        "Lesotho",
        "Liberia",
        "Lithuania",
        "Macedonia, FYR",
        "Madagascar",
        "Malawi",
        "Malaysia",
        "Mali",
        "Mauritania",
        "Mauritius",
        "Mexico",
        "Moldova",
        "Mongolia",
        "Morocco",
        "Mozambique",
        "Myanmar",
        "Namibia",
        "Nepal",
        "Netherlands",
        "Nicaragua",
        "Niger",
        "Nigeria",
        "Norway",
        "Pakistan",
        "Panama",
        "Papua New Guinea",
        "Paraguay",
        "Peru",
        "Philippines",
        "Poland",
        "Portugal",
        "Romania",
        "Russian Federation",
        "Rwanda",
        "Senegal",
        "Sierra Leone",
        "Slovak Republic",
        "Slovenia",
        "South Africa",
        "Spain",
        "Sri Lanka",
        "Sudan",
        "Sweden",
        "Switzerland",
        "Syrian Arab Republic",
        "Taiwan",
        "Tajikistan",
        "Tanzania",
        "Thailand",
        "Togo",
        "Trinidad and Tobago",
        "Tunisia",
        "Turkey",
        "Turkmenistan",
        "Ukraine",
        "United Kingdom",
        "United States",
        "Uruguay",
        "Uzbekistan",
        "Venezuela",
        "Vietnam",
        "West Bank and Gaza",
        "Zambia"
       ],
       "description": "Country 2:",
       "index": 121,
       "layout": "IPY_MODEL_af4974d5f8cf45bcb7130df2658e5a91",
       "style": "IPY_MODEL_b3c0e5c1b3374383a8941c5f4ed8163e"
      }
     },
     "19c694c9d1bd458c994d474fcde6e913": {
      "model_module": "@jupyter-widgets/base",
      "model_module_version": "1.2.0",
      "model_name": "LayoutModel",
      "state": {
       "align_items": "center",
       "flex": "3 0 auto"
      }
     },
     "1a124c2cd2a147c996d110f6b826630c": {
      "model_module": "@jupyter-widgets/base",
      "model_module_version": "1.2.0",
      "model_name": "LayoutModel",
      "state": {}
     },
     "1cd2e0e6b7e54c0d91d6f26aca6ce30e": {
      "model_module": "@jupyter-widgets/controls",
      "model_module_version": "1.5.0",
      "model_name": "DescriptionStyleModel",
      "state": {
       "description_width": ""
      }
     },
     "1d7bb835d88642c8a8cb332dd77ce977": {
      "model_module": "@jupyter-widgets/controls",
      "model_module_version": "1.5.0",
      "model_name": "DropdownModel",
      "state": {
       "_options_labels": [
        "Decile 1 Income",
        "Decile 2 Income",
        "Decile 3 Income",
        "Decile 4 Income",
        "Decile 5 Income",
        "Decile 6 Income",
        "Decile 7 Income",
        "Decile 8 Income",
        "Decile 9 Income",
        "Decile 10 Income"
       ],
       "index": 1,
       "layout": "IPY_MODEL_41845a3e2c67459da0156c4a7de6bdfd",
       "style": "IPY_MODEL_f3ab25cf81f046129b4a81c78ab65935"
      }
     },
     "1f407d42fea1402da69fc690149ba128": {
      "model_module": "@jupyter-widgets/controls",
      "model_module_version": "1.5.0",
      "model_name": "HBoxModel",
      "state": {
       "children": [
        "IPY_MODEL_e09be4e5f8174b178a7422bdc63b3a8e"
       ],
       "layout": "IPY_MODEL_f391f13eb77940ea9f4d69ca362c82b7"
      }
     },
     "2019c2de39cc445eb04f104dd29dc16c": {
      "model_module": "@jupyter-widgets/base",
      "model_module_version": "1.2.0",
      "model_name": "LayoutModel",
      "state": {}
     },
     "204343838c4a4ea495617edd3c867fa4": {
      "model_module": "@jupyter-widgets/controls",
      "model_module_version": "1.5.0",
      "model_name": "HBoxModel",
      "state": {
       "children": [
        "IPY_MODEL_88ddcca54800490f82f6ccc027716992",
        "IPY_MODEL_640f0c6086754d22bf3bd92dfe1fd094"
       ],
       "layout": "IPY_MODEL_7ff1430ffb4747ebb89e49c3dd57a9d0"
      }
     },
     "21a0480117c2480b9674dc7c78ce820c": {
      "model_module": "@jupyter-widgets/controls",
      "model_module_version": "1.5.0",
      "model_name": "DescriptionStyleModel",
      "state": {
       "description_width": ""
      }
     },
     "2403439a6c6442938b031acb55c46dda": {
      "model_module": "@jupyter-widgets/controls",
      "model_module_version": "1.5.0",
      "model_name": "DropdownModel",
      "state": {
       "_options_labels": [
        "1980",
        "1981",
        "1982",
        "1983",
        "1984",
        "1985",
        "1986",
        "1987",
        "1988",
        "1989",
        "1990",
        "1991",
        "1992",
        "1993",
        "1994",
        "1995",
        "1996",
        "1997",
        "1998",
        "1999",
        "2000",
        "2001",
        "2002",
        "2003",
        "2004",
        "2005",
        "2006",
        "2007",
        "2008",
        "2009",
        "2010",
        "2011",
        "2012",
        "2013",
        "2014"
       ],
       "index": 34,
       "layout": "IPY_MODEL_bb274baf910a4f75874e3c7a1233ee27",
       "style": "IPY_MODEL_8befdabc36924649a45a9e503d0fb983"
      }
     },
     "242b3bed140441d8b4d72186115d40a7": {
      "model_module": "@jupyter-widgets/controls",
      "model_module_version": "1.5.0",
      "model_name": "VBoxModel",
      "state": {
       "children": [
        "IPY_MODEL_b9dff42faf0a4e4086bfcd5ccfb1ef99",
        "IPY_MODEL_6355b3ad5a9d46c19ff47fe4944563cf"
       ],
       "layout": "IPY_MODEL_44f101d0451248d3864db5a1ffbf9156"
      }
     },
     "253dad85deaa43a08d3d9630a5bb8acf": {
      "model_module": "@jupyter-widgets/base",
      "model_module_version": "1.2.0",
      "model_name": "LayoutModel",
      "state": {}
     },
     "25ed341328044e3e9a9c0cbc6f259120": {
      "model_module": "@jupyter-widgets/controls",
      "model_module_version": "1.5.0",
      "model_name": "HBoxModel",
      "state": {
       "children": [
        "IPY_MODEL_e743172730c04ff18c33de5b54e18900",
        "IPY_MODEL_1d7bb835d88642c8a8cb332dd77ce977"
       ],
       "layout": "IPY_MODEL_d7450ac433214cd0a4fb0f0fe491fc80"
      }
     },
     "290388bd33f349b0a0cb5da7c8764773": {
      "model_module": "@jupyter-widgets/controls",
      "model_module_version": "1.5.0",
      "model_name": "DescriptionStyleModel",
      "state": {
       "description_width": ""
      }
     },
     "29263392db10464c848542c2e8a53c0e": {
      "model_module": "@jupyter-widgets/base",
      "model_module_version": "1.2.0",
      "model_name": "LayoutModel",
      "state": {
       "margin": "0 0 4em 0"
      }
     },
     "29fab6f2add4454f8a71e3fd2d0e8473": {
      "model_module": "@jupyter-widgets/controls",
      "model_module_version": "1.5.0",
      "model_name": "DescriptionStyleModel",
      "state": {
       "description_width": ""
      }
     },
     "2a6fb56746e44ed0aa97591ff328a79b": {
      "model_module": "@jupyter-widgets/controls",
      "model_module_version": "1.5.0",
      "model_name": "DescriptionStyleModel",
      "state": {
       "description_width": ""
      }
     },
     "2ae74e0739fc4fad8a5fbfa826b1befd": {
      "model_module": "@jupyter-widgets/base",
      "model_module_version": "1.2.0",
      "model_name": "LayoutModel",
      "state": {
       "align_items": "center",
       "flex": "3 0 auto"
      }
     },
     "2b1be9ec21f34fdf8b11ccfc17a2fa94": {
      "model_module": "@jupyter-widgets/controls",
      "model_module_version": "1.5.0",
      "model_name": "DescriptionStyleModel",
      "state": {
       "description_width": ""
      }
     },
     "2b200605cf7a4734b9422b767a8380ba": {
      "model_module": "@jupyter-widgets/controls",
      "model_module_version": "1.5.0",
      "model_name": "DescriptionStyleModel",
      "state": {
       "description_width": ""
      }
     },
     "2d6056726fb248cfba7ceb831599e9b4": {
      "model_module": "@jupyter-widgets/controls",
      "model_module_version": "1.5.0",
      "model_name": "HTMLModel",
      "state": {
       "layout": "IPY_MODEL_414d2ef061f8402a8090630d685bdd8a",
       "style": "IPY_MODEL_21a0480117c2480b9674dc7c78ce820c",
       "value": "<h1>Compare the Rich/Poor ratio in multiple countries</h1>\n                    \n                    <br>The Rich/Poor ratio is defined as the average income of the richest 10% divided by the average income of the poorest 10%.\n                    \n                    <br>The incomes used for this ratio are in 2005 $ PPP. \n                    \n                    <br>You can select any country in the dropdowns. You can modify the year range on the slider. \n                    <br>If you would like to change the number of countries, you will need to select a new number in the dropdown above this graph and re-run this cell. \n                    \n                    \n                    <p><em></em><p>\n"
      }
     },
     "2e478c52a6394357bc69f95409747eaa": {
      "model_module": "@jupyter-widgets/controls",
      "model_module_version": "1.5.0",
      "model_name": "HBoxModel",
      "state": {
       "children": [
        "IPY_MODEL_f0bb36e62fa44c0da7ed983b649b1b03",
        "IPY_MODEL_2403439a6c6442938b031acb55c46dda"
       ],
       "layout": "IPY_MODEL_31da99b6014f4a0cb5908ac168607686"
      }
     },
     "2f57c16f613948939dc0c9ff24c21be8": {
      "model_module": "@jupyter-widgets/controls",
      "model_module_version": "1.5.0",
      "model_name": "DescriptionStyleModel",
      "state": {
       "description_width": ""
      }
     },
     "3003d86e5fb941f69e95689a7a6cc260": {
      "model_module": "@jupyter-widgets/controls",
      "model_module_version": "1.5.0",
      "model_name": "HBoxModel",
      "state": {
       "children": [
        "IPY_MODEL_40119ab0a8d24277834253223670a440",
        "IPY_MODEL_e83c292ccc9043b7a53c0f71ac6ca7b0"
       ],
       "layout": "IPY_MODEL_fcbfb6238a244d82903f63ed6034781e"
      }
     },
     "30526129ff8946ecaf699a371875eb1f": {
      "model_module": "@jupyter-widgets/controls",
      "model_module_version": "1.5.0",
      "model_name": "DescriptionStyleModel",
      "state": {
       "description_width": ""
      }
     },
     "3140c27e82d34f7183de0252482263e0": {
      "model_module": "@jupyter-widgets/base",
      "model_module_version": "1.2.0",
      "model_name": "LayoutModel",
      "state": {}
     },
     "317925123d124dfdaf2fe0b7d9dda7da": {
      "model_module": "@jupyter-widgets/controls",
      "model_module_version": "1.5.0",
      "model_name": "SliderStyleModel",
      "state": {
       "description_width": ""
      }
     },
     "31da99b6014f4a0cb5908ac168607686": {
      "model_module": "@jupyter-widgets/base",
      "model_module_version": "1.2.0",
      "model_name": "LayoutModel",
      "state": {}
     },
     "32cece03b8d141618a194481508306a4": {
      "model_module": "@jupyter-widgets/base",
      "model_module_version": "1.2.0",
      "model_name": "LayoutModel",
      "state": {
       "width": "500px"
      }
     },
     "3431ff6298b34c4789b8a01159ae0484": {
      "model_module": "@jupyter-widgets/controls",
      "model_module_version": "1.5.0",
      "model_name": "DescriptionStyleModel",
      "state": {
       "description_width": ""
      }
     },
     "3656799cbe674bb1afe0b4eb4176f2fc": {
      "model_module": "@jupyter-widgets/controls",
      "model_module_version": "1.5.0",
      "model_name": "LabelModel",
      "state": {
       "layout": "IPY_MODEL_65d11e71c309416eb1045bcd10bbe8ac",
       "style": "IPY_MODEL_52d75b14373f494eaa77d173b23b836f",
       "value": "Year range: "
      }
     },
     "3814ce8f805b4275891046d6c172debc": {
      "model_module": "@jupyter-widgets/controls",
      "model_module_version": "1.5.0",
      "model_name": "DescriptionStyleModel",
      "state": {
       "description_width": ""
      }
     },
     "382f9a108a6d4f609905d50ba2c20560": {
      "model_module": "@jupyter-widgets/base",
      "model_module_version": "1.2.0",
      "model_name": "LayoutModel",
      "state": {}
     },
     "3af7bbb9e1f44cd79d476a513633e2d2": {
      "model_module": "@jupyter-widgets/controls",
      "model_module_version": "1.5.0",
      "model_name": "IntRangeSliderModel",
      "state": {
       "_model_name": "IntRangeSliderModel",
       "_view_name": "IntRangeSliderView",
       "layout": "IPY_MODEL_32cece03b8d141618a194481508306a4",
       "max": 2014,
       "min": 1980,
       "style": "IPY_MODEL_8adf1ad08b6146c39fa7edf982b19c39",
       "value": [
        1980,
        2014
       ]
      }
     },
     "3bd25dc055a448b0a1b31fead4dfec82": {
      "model_module": "@jupyter-widgets/controls",
      "model_module_version": "1.5.0",
      "model_name": "SliderStyleModel",
      "state": {
       "description_width": ""
      }
     },
     "3d1aeb9bc7d547338828414d91fb4d61": {
      "model_module": "@jupyter-widgets/controls",
      "model_module_version": "1.5.0",
      "model_name": "VBoxModel",
      "state": {
       "children": [
        "IPY_MODEL_95015e7517e044a6930770d34ac0d1d0",
        "IPY_MODEL_d654330ad7934e2a9e82c77b524a4ba7",
        "IPY_MODEL_8013b7de5a3445059ffc309fc7229565"
       ],
       "layout": "IPY_MODEL_3f090b5cb4be47f382191be7f266b731"
      }
     },
     "3d2b2a2e7adb4a2ba827727601bec2e2": {
      "model_module": "@jupyter-widgets/base",
      "model_module_version": "1.2.0",
      "model_name": "LayoutModel",
      "state": {
       "margin": "0 0 4em 0"
      }
     },
     "3d5c0ddd47f148d3bcb23b01db714fe8": {
      "model_module": "@jupyter-widgets/base",
      "model_module_version": "1.2.0",
      "model_name": "LayoutModel",
      "state": {
       "align_items": "center",
       "flex": "3 0 auto"
      }
     },
     "3d8aa9f8e8ed44b0aeb302de20ea8aa8": {
      "model_module": "@jupyter-widgets/controls",
      "model_module_version": "1.5.0",
      "model_name": "DescriptionStyleModel",
      "state": {
       "description_width": ""
      }
     },
     "3db825decea74b5ca29e7fc0b9341adb": {
      "model_module": "@jupyter-widgets/base",
      "model_module_version": "1.2.0",
      "model_name": "LayoutModel",
      "state": {}
     },
     "3f090b5cb4be47f382191be7f266b731": {
      "model_module": "@jupyter-widgets/base",
      "model_module_version": "1.2.0",
      "model_name": "LayoutModel",
      "state": {
       "align_items": "center",
       "flex": "3 0 auto"
      }
     },
     "3f273ebbdee7468191ace1c4a5191269": {
      "model_module": "@jupyter-widgets/base",
      "model_module_version": "1.2.0",
      "model_name": "LayoutModel",
      "state": {
       "margin": "0 0 5em 0"
      }
     },
     "40119ab0a8d24277834253223670a440": {
      "model_module": "@jupyter-widgets/controls",
      "model_module_version": "1.5.0",
      "model_name": "LabelModel",
      "state": {
       "layout": "IPY_MODEL_fdc0654fb0944824ba1adad412f4232d",
       "style": "IPY_MODEL_b738a28fa4264ec399998e4afe45cd29",
       "value": "Year range: "
      }
     },
     "414d2ef061f8402a8090630d685bdd8a": {
      "model_module": "@jupyter-widgets/base",
      "model_module_version": "1.2.0",
      "model_name": "LayoutModel",
      "state": {
       "margin": "0 0 4em 0"
      }
     },
     "41845a3e2c67459da0156c4a7de6bdfd": {
      "model_module": "@jupyter-widgets/base",
      "model_module_version": "1.2.0",
      "model_name": "LayoutModel",
      "state": {}
     },
     "44234b2c7631418280ca5f5e996bcbc4": {
      "model_module": "@jupyter-widgets/controls",
      "model_module_version": "1.5.0",
      "model_name": "HBoxModel",
      "state": {
       "children": [
        "IPY_MODEL_e79bec610db24ee0b3f033b7b2b413a8",
        "IPY_MODEL_eadbdde9e0d6445e8649f456d649eb54"
       ],
       "layout": "IPY_MODEL_382f9a108a6d4f609905d50ba2c20560"
      }
     },
     "442e803e0b61424ea6e84c5648fc0530": {
      "model_module": "@jupyter-widgets/controls",
      "model_module_version": "1.5.0",
      "model_name": "VBoxModel",
      "state": {
       "children": [
        "IPY_MODEL_c1177c4e1c184dcca9723b3231d76b3a"
       ],
       "layout": "IPY_MODEL_4c2855cfa3db49298dc08ca9dd8d6d9b"
      }
     },
     "4466f65cd42a4487b3c455f180ca4170": {
      "model_module": "@jupyter-widgets/base",
      "model_module_version": "1.2.0",
      "model_name": "LayoutModel",
      "state": {
       "flex": "1 1 auto",
       "margin": "0 auto 0 auto",
       "max_width": "1024px"
      }
     },
     "44f101d0451248d3864db5a1ffbf9156": {
      "model_module": "@jupyter-widgets/base",
      "model_module_version": "1.2.0",
      "model_name": "LayoutModel",
      "state": {
       "flex": "1 1 auto",
       "margin": "0 auto 0 auto",
       "max_width": "1024px"
      }
     },
     "4508135e7c7e46b3a43218311b6c2777": {
      "model_module": "@jupyter-widgets/base",
      "model_module_version": "1.2.0",
      "model_name": "LayoutModel",
      "state": {}
     },
     "460caa5242b4445cb2b526e934e46e46": {
      "model_module": "@jupyter-widgets/base",
      "model_module_version": "1.2.0",
      "model_name": "LayoutModel",
      "state": {}
     },
     "48c557d2259b466d9e34a5b046979de1": {
      "model_module": "@jupyter-widgets/controls",
      "model_module_version": "1.5.0",
      "model_name": "DropdownModel",
      "state": {
       "_options_labels": [
        "Afghanistan",
        "Albania",
        "Algeria",
        "Angola",
        "Argentina",
        "Armenia",
        "Australia",
        "Austria",
        "Azerbaijan",
        "Bangladesh",
        "Belarus",
        "Belgium",
        "Benin",
        "Bolivia",
        "Botswana",
        "Brazil",
        "Bulgaria",
        "Burkina Faso",
        "Burundi",
        "Cambodia",
        "Cameroon",
        "Canada",
        "Central African Republic",
        "Chad",
        "Chile",
        "China",
        "Colombia",
        "Congo, Dem. Rep.",
        "Congo, Rep.",
        "Costa Rica",
        "Cote d'Ivoire",
        "Croatia",
        "Czech Republic",
        "Denmark",
        "Dominican Republic",
        "Ecuador",
        "Egypt",
        "El Salvador",
        "Estonia",
        "Ethiopia",
        "Finland",
        "France",
        "Germany",
        "Ghana",
        "Greece",
        "Guatemala",
        "Guinea",
        "Guinea-Bissau",
        "Haiti",
        "Honduras",
        "Hungary",
        "India",
        "Indonesia",
        "Iran",
        "Ireland",
        "Israel",
        "Italy",
        "Jamaica",
        "Japan",
        "Jordan",
        "Kazakhstan",
        "Kenya",
        "Korea, Rep.",
        "Kyrgyz Republic",
        "Lao",
        "Latvia",
        "Lesotho",
        "Liberia",
        "Lithuania",
        "Macedonia, FYR",
        "Madagascar",
        "Malawi",
        "Malaysia",
        "Mali",
        "Mauritania",
        "Mauritius",
        "Mexico",
        "Moldova",
        "Mongolia",
        "Morocco",
        "Mozambique",
        "Myanmar",
        "Namibia",
        "Nepal",
        "Netherlands",
        "Nicaragua",
        "Niger",
        "Nigeria",
        "Norway",
        "Pakistan",
        "Panama",
        "Papua New Guinea",
        "Paraguay",
        "Peru",
        "Philippines",
        "Poland",
        "Portugal",
        "Romania",
        "Russian Federation",
        "Rwanda",
        "Senegal",
        "Sierra Leone",
        "Slovak Republic",
        "Slovenia",
        "South Africa",
        "Spain",
        "Sri Lanka",
        "Sudan",
        "Sweden",
        "Switzerland",
        "Syrian Arab Republic",
        "Taiwan",
        "Tajikistan",
        "Tanzania",
        "Thailand",
        "Togo",
        "Trinidad and Tobago",
        "Tunisia",
        "Turkey",
        "Turkmenistan",
        "Ukraine",
        "United Kingdom",
        "United States",
        "Uruguay",
        "Uzbekistan",
        "Venezuela",
        "Vietnam",
        "West Bank and Gaza",
        "Zambia"
       ],
       "description": "Country 2:",
       "index": 121,
       "layout": "IPY_MODEL_8dc13ad615724883ab5e646512dee950",
       "style": "IPY_MODEL_f9b5091ff1404526afab4df2d36581a6"
      }
     },
     "49fc907cb5f54007b3cfbb54afc15f71": {
      "model_module": "@jupyter-widgets/controls",
      "model_module_version": "1.5.0",
      "model_name": "VBoxModel",
      "state": {
       "children": [
        "IPY_MODEL_ab5997e4ec1d4268961c041a55a71642",
        "IPY_MODEL_1f407d42fea1402da69fc690149ba128"
       ],
       "layout": "IPY_MODEL_9e61c8936fc3465f94575589e348bce1"
      }
     },
     "4bce2efe301045bb922560ec322c399f": {
      "model_module": "@jupyter-widgets/base",
      "model_module_version": "1.2.0",
      "model_name": "LayoutModel",
      "state": {}
     },
     "4c18bc8b4c784a2d9d2fbba7688347f7": {
      "model_module": "@jupyter-widgets/controls",
      "model_module_version": "1.5.0",
      "model_name": "HTMLModel",
      "state": {
       "layout": "IPY_MODEL_90947d1b08ae49c0affcb8f4a594ddcc",
       "style": "IPY_MODEL_9d053fe1409d48b3a7d680fcf98144c5",
       "value": "\n                    <p>Enter income distrubtions below:\n\n                    "
      }
     },
     "4c2855cfa3db49298dc08ca9dd8d6d9b": {
      "model_module": "@jupyter-widgets/base",
      "model_module_version": "1.2.0",
      "model_name": "LayoutModel",
      "state": {
       "align_items": "center",
       "flex": "3 0 auto"
      }
     },
     "4c587e361bcf4bb18c115a85675fae18": {
      "model_module": "@jupyter-widgets/base",
      "model_module_version": "1.2.0",
      "model_name": "LayoutModel",
      "state": {}
     },
     "4c895c7c1dd94bc48d7a9c70a7540f75": {
      "model_module": "@jupyter-widgets/base",
      "model_module_version": "1.2.0",
      "model_name": "LayoutModel",
      "state": {
       "align_items": "center",
       "flex": "3 0 auto"
      }
     },
     "4cd785c9fa114311b9cf954e339a0066": {
      "model_module": "@jupyter-widgets/controls",
      "model_module_version": "1.5.0",
      "model_name": "HTMLModel",
      "state": {
       "layout": "IPY_MODEL_b9e707f574ef482ea713c6d4e99be99a",
       "style": "IPY_MODEL_f80ba8150ab74acc8877b74c8435c9cc",
       "value": "\n                    <p>Select two countries and two years:\n\n                    "
      }
     },
     "4e5cebbe68d34e1099011a66d12002e8": {
      "model_module": "@jupyter-widgets/controls",
      "model_module_version": "1.5.0",
      "model_name": "VBoxModel",
      "state": {
       "children": [
        "IPY_MODEL_d87f3fde22344436a3fcd4957220a152",
        "IPY_MODEL_174894fbd6b34e0186f4da0fe7375b89"
       ],
       "layout": "IPY_MODEL_4466f65cd42a4487b3c455f180ca4170"
      }
     },
     "4e7ea12ed1fc4831b98266407ed6618d": {
      "model_module": "@jupyter-widgets/controls",
      "model_module_version": "1.5.0",
      "model_name": "DescriptionStyleModel",
      "state": {
       "description_width": ""
      }
     },
     "4fd29a4b3e004f5d807fcdd4b0a0b89a": {
      "model_module": "@jupyter-widgets/base",
      "model_module_version": "1.2.0",
      "model_name": "LayoutModel",
      "state": {
       "margin": "0 0 4em 0"
      }
     },
     "4ff3f6f236e343d5a9bb7ab8864e03fe": {
      "model_module": "@jupyter-widgets/controls",
      "model_module_version": "1.5.0",
      "model_name": "VBoxModel",
      "state": {
       "children": [
        "IPY_MODEL_78329969d319411aa449a55e797ed8bc"
       ],
       "layout": "IPY_MODEL_4c895c7c1dd94bc48d7a9c70a7540f75"
      }
     },
     "500117a915bd4d1db0d943036b4d96c8": {
      "model_module": "@jupyter-widgets/controls",
      "model_module_version": "1.5.0",
      "model_name": "HTMLModel",
      "state": {
       "layout": "IPY_MODEL_d557b7a06d294946a5ad7a59bf548a9e",
       "style": "IPY_MODEL_3814ce8f805b4275891046d6c172debc",
       "value": "Select the number of societies you would like to compare\n                    <p><em></em><p>\n"
      }
     },
     "5046339f6c5b40308edafc06c76fa3cf": {
      "model_module": "@jupyter-widgets/controls",
      "model_module_version": "1.5.0",
      "model_name": "HBoxModel",
      "state": {
       "children": [
        "IPY_MODEL_4ff3f6f236e343d5a9bb7ab8864e03fe"
       ],
       "layout": "IPY_MODEL_f414a961bfaa4343b43571b76b83ac6b"
      }
     },
     "513ef96050154c83818526be7ea05534": {
      "model_module": "@jupyter-widgets/base",
      "model_module_version": "1.2.0",
      "model_name": "LayoutModel",
      "state": {}
     },
     "529eb99d601c4616970d7e360ff88738": {
      "model_module": "@jupyter-widgets/controls",
      "model_module_version": "1.5.0",
      "model_name": "DropdownModel",
      "state": {
       "_options_labels": [
        "Your income ratio",
        "Comparison to Rich/Poor ratio",
        "Comparison to Gini"
       ],
       "index": 0,
       "layout": "IPY_MODEL_c6cafdecf5174aa286cde9e5f21b3696",
       "style": "IPY_MODEL_b3bdf1a6c84147d68b268f0a4252c326"
      }
     },
     "52d75b14373f494eaa77d173b23b836f": {
      "model_module": "@jupyter-widgets/controls",
      "model_module_version": "1.5.0",
      "model_name": "DescriptionStyleModel",
      "state": {
       "description_width": ""
      }
     },
     "55098abc39da486280fe8058fb425793": {
      "model_module": "@jupyter-widgets/controls",
      "model_module_version": "1.5.0",
      "model_name": "IntRangeSliderModel",
      "state": {
       "_model_name": "IntRangeSliderModel",
       "_view_name": "IntRangeSliderView",
       "layout": "IPY_MODEL_84bee3a9a344483a935db79d8a8a3829",
       "max": 2014,
       "min": 1980,
       "style": "IPY_MODEL_317925123d124dfdaf2fe0b7d9dda7da",
       "value": [
        1980,
        2014
       ]
      }
     },
     "56744b2872bb4608a451173902fdaf79": {
      "model_module": "@jupyter-widgets/base",
      "model_module_version": "1.2.0",
      "model_name": "LayoutModel",
      "state": {}
     },
     "56dd27dfe0da44848182920d69fc109d": {
      "model_module": "@jupyter-widgets/base",
      "model_module_version": "1.2.0",
      "model_name": "LayoutModel",
      "state": {
       "flex": "1 1 auto",
       "margin": "0 auto 0 auto",
       "max_width": "1024px"
      }
     },
     "58fbfc7114d34583bf7b48700b277279": {
      "model_module": "@jupyter-widgets/base",
      "model_module_version": "1.2.0",
      "model_name": "LayoutModel",
      "state": {}
     },
     "5a7e862e66ce4b5e8d89ded50c077d41": {
      "model_module": "@jupyter-widgets/controls",
      "model_module_version": "1.5.0",
      "model_name": "HTMLModel",
      "state": {
       "layout": "IPY_MODEL_5e5e9f83872c438aa1fba61616e13e57",
       "style": "IPY_MODEL_2b200605cf7a4734b9422b767a8380ba",
       "value": "\n                    <h1>Compare LCs & Ginis of different countries over time</h1>\n                    \n                    <br>Select two countries of interest. If you choose the same country, you can conduct comparisons over time.\n                    \n                    <br>Select two years of interest. If you choose the same year, you can compare different countries during the same time period.\n                    \n                    <br>Below the Lorenz Curves, we can see the Gini values for your selections. \n                    <br> The income values are in 2005 $ PPP.\n                    "
      }
     },
     "5cc6d0f69890480aa9e3655b395ef532": {
      "model_module": "@jupyter-widgets/output",
      "model_module_version": "1.0.0",
      "model_name": "OutputModel",
      "state": {
       "layout": "IPY_MODEL_3db825decea74b5ca29e7fc0b9341adb",
       "outputs": [
        {
         "data": {
          "text/plain": "<Figure size 800x560 with 1 Axes>"
         },
         "metadata": {},
         "output_type": "display_data"
        },
        {
         "name": "stdout",
         "output_type": "stream",
         "text": "Gini Value 1: 0.222\n\n"
        }
       ]
      }
     },
     "5e4c052c39f24d36b94e638474dc0bf5": {
      "model_module": "@jupyter-widgets/controls",
      "model_module_version": "1.5.0",
      "model_name": "HBoxModel",
      "state": {
       "children": [
        "IPY_MODEL_3d1aeb9bc7d547338828414d91fb4d61"
       ],
       "layout": "IPY_MODEL_6504d31750ab4971aaa2a7866570f1a6"
      }
     },
     "5e5e9f83872c438aa1fba61616e13e57": {
      "model_module": "@jupyter-widgets/base",
      "model_module_version": "1.2.0",
      "model_name": "LayoutModel",
      "state": {
       "margin": "0 0 4em 0"
      }
     },
     "5f1adcf5dfdc45188e1930e7911f9106": {
      "model_module": "@jupyter-widgets/base",
      "model_module_version": "1.2.0",
      "model_name": "LayoutModel",
      "state": {}
     },
     "6067346a65ae4086bc6cc38a430275d0": {
      "model_module": "@jupyter-widgets/controls",
      "model_module_version": "1.5.0",
      "model_name": "HTMLModel",
      "state": {
       "layout": "IPY_MODEL_9fc3d9da18b64742aa35929a610403ea",
       "style": "IPY_MODEL_1cd2e0e6b7e54c0d91d6f26aca6ce30e",
       "value": "Select the number of societies you would like to compare\n                    <p><em></em><p>\n"
      }
     },
     "616fcd1b277c47eda21976ae8258bc02": {
      "model_module": "@jupyter-widgets/base",
      "model_module_version": "1.2.0",
      "model_name": "LayoutModel",
      "state": {}
     },
     "6203abe5ea604dceba01d5fe6f568bf3": {
      "model_module": "@jupyter-widgets/base",
      "model_module_version": "1.2.0",
      "model_name": "LayoutModel",
      "state": {}
     },
     "6355b3ad5a9d46c19ff47fe4944563cf": {
      "model_module": "@jupyter-widgets/controls",
      "model_module_version": "1.5.0",
      "model_name": "HBoxModel",
      "state": {
       "children": [
        "IPY_MODEL_b86564ceebb343a298a6eabeefeb216d"
       ],
       "layout": "IPY_MODEL_2019c2de39cc445eb04f104dd29dc16c"
      }
     },
     "63b452afd9dc4a2a8b451fd55d16ff9d": {
      "model_module": "@jupyter-widgets/controls",
      "model_module_version": "1.5.0",
      "model_name": "DropdownModel",
      "state": {
       "_options_labels": [
        "Afghanistan",
        "Albania",
        "Algeria",
        "Angola",
        "Argentina",
        "Armenia",
        "Australia",
        "Austria",
        "Azerbaijan",
        "Bangladesh",
        "Belarus",
        "Belgium",
        "Benin",
        "Bolivia",
        "Botswana",
        "Brazil",
        "Bulgaria",
        "Burkina Faso",
        "Burundi",
        "Cambodia",
        "Cameroon",
        "Canada",
        "Central African Republic",
        "Chad",
        "Chile",
        "China",
        "Colombia",
        "Congo, Dem. Rep.",
        "Congo, Rep.",
        "Costa Rica",
        "Cote d'Ivoire",
        "Croatia",
        "Czech Republic",
        "Denmark",
        "Dominican Republic",
        "Ecuador",
        "Egypt",
        "El Salvador",
        "Estonia",
        "Ethiopia",
        "Finland",
        "France",
        "Germany",
        "Ghana",
        "Greece",
        "Guatemala",
        "Guinea",
        "Guinea-Bissau",
        "Haiti",
        "Honduras",
        "Hungary",
        "India",
        "Indonesia",
        "Iran",
        "Ireland",
        "Israel",
        "Italy",
        "Jamaica",
        "Japan",
        "Jordan",
        "Kazakhstan",
        "Kenya",
        "Korea, Rep.",
        "Kyrgyz Republic",
        "Lao",
        "Latvia",
        "Lesotho",
        "Liberia",
        "Lithuania",
        "Macedonia, FYR",
        "Madagascar",
        "Malawi",
        "Malaysia",
        "Mali",
        "Mauritania",
        "Mauritius",
        "Mexico",
        "Moldova",
        "Mongolia",
        "Morocco",
        "Mozambique",
        "Myanmar",
        "Namibia",
        "Nepal",
        "Netherlands",
        "Nicaragua",
        "Niger",
        "Nigeria",
        "Norway",
        "Pakistan",
        "Panama",
        "Papua New Guinea",
        "Paraguay",
        "Peru",
        "Philippines",
        "Poland",
        "Portugal",
        "Romania",
        "Russian Federation",
        "Rwanda",
        "Senegal",
        "Sierra Leone",
        "Slovak Republic",
        "Slovenia",
        "South Africa",
        "Spain",
        "Sri Lanka",
        "Sudan",
        "Sweden",
        "Switzerland",
        "Syrian Arab Republic",
        "Taiwan",
        "Tajikistan",
        "Tanzania",
        "Thailand",
        "Togo",
        "Trinidad and Tobago",
        "Tunisia",
        "Turkey",
        "Turkmenistan",
        "Ukraine",
        "United Kingdom",
        "United States",
        "Uruguay",
        "Uzbekistan",
        "Venezuela",
        "Vietnam",
        "West Bank and Gaza",
        "Zambia"
       ],
       "description": "Country 2:",
       "index": 121,
       "layout": "IPY_MODEL_56744b2872bb4608a451173902fdaf79",
       "style": "IPY_MODEL_4e7ea12ed1fc4831b98266407ed6618d"
      }
     },
     "640f0c6086754d22bf3bd92dfe1fd094": {
      "model_module": "@jupyter-widgets/controls",
      "model_module_version": "1.5.0",
      "model_name": "HTMLModel",
      "state": {
       "layout": "IPY_MODEL_ee82de26a08145fa9863c686ee82544d",
       "style": "IPY_MODEL_cc56c443f7694adb9dec80325ba9120a"
      }
     },
     "64c19aeebae8442c8bd5978c424227b8": {
      "model_module": "@jupyter-widgets/controls",
      "model_module_version": "1.5.0",
      "model_name": "VBoxModel",
      "state": {
       "children": [
        "IPY_MODEL_860f70af139d4ac6989a9689ef76d1bf"
       ],
       "layout": "IPY_MODEL_3d5c0ddd47f148d3bcb23b01db714fe8"
      }
     },
     "6504d31750ab4971aaa2a7866570f1a6": {
      "model_module": "@jupyter-widgets/base",
      "model_module_version": "1.2.0",
      "model_name": "LayoutModel",
      "state": {}
     },
     "6554abdeb5c4444c8a4b56e11c5551f5": {
      "model_module": "@jupyter-widgets/controls",
      "model_module_version": "1.5.0",
      "model_name": "DescriptionStyleModel",
      "state": {
       "description_width": ""
      }
     },
     "65d11e71c309416eb1045bcd10bbe8ac": {
      "model_module": "@jupyter-widgets/base",
      "model_module_version": "1.2.0",
      "model_name": "LayoutModel",
      "state": {}
     },
     "665fe343515443dc92c77975222b920f": {
      "model_module": "@jupyter-widgets/base",
      "model_module_version": "1.2.0",
      "model_name": "LayoutModel",
      "state": {}
     },
     "66e6262e2d6f4addae1b82009b97fb7d": {
      "model_module": "@jupyter-widgets/controls",
      "model_module_version": "1.5.0",
      "model_name": "DropdownModel",
      "state": {
       "_options_labels": [
        "1",
        "2",
        "3",
        "4",
        "5",
        "6",
        "7",
        "8",
        "9",
        "10"
       ],
       "index": 0,
       "layout": "IPY_MODEL_6dc373d17a124194a8c074b9a65be4f5",
       "style": "IPY_MODEL_6916fa0cd7fb42dca6433ee493497f7b"
      }
     },
     "67255577890a42f495953f68ec0aec65": {
      "model_module": "@jupyter-widgets/base",
      "model_module_version": "1.2.0",
      "model_name": "LayoutModel",
      "state": {
       "flex": "1 1 auto",
       "margin": "0 auto 0 auto",
       "max_width": "1024px"
      }
     },
     "6760842394554db7b0f8a86ec563bb10": {
      "model_module": "@jupyter-widgets/controls",
      "model_module_version": "1.5.0",
      "model_name": "LabelModel",
      "state": {
       "layout": "IPY_MODEL_dad8ba36a27e4b1484d7485311c8360b",
       "style": "IPY_MODEL_00df9fe27c0544f7816983bca76b8af0",
       "value": "Year range: "
      }
     },
     "676491de6f80430da7ef24e2ac471cbd": {
      "model_module": "@jupyter-widgets/controls",
      "model_module_version": "1.5.0",
      "model_name": "DropdownModel",
      "state": {
       "_options_labels": [
        "1",
        "2",
        "3",
        "4",
        "5",
        "6",
        "7",
        "8",
        "9",
        "10"
       ],
       "index": 0,
       "layout": "IPY_MODEL_5f1adcf5dfdc45188e1930e7911f9106",
       "style": "IPY_MODEL_6554abdeb5c4444c8a4b56e11c5551f5"
      }
     },
     "68b471b1a89a4f4aa13d76c81bf2681f": {
      "model_module": "@jupyter-widgets/base",
      "model_module_version": "1.2.0",
      "model_name": "LayoutModel",
      "state": {
       "width": "500px"
      }
     },
     "68be77e2ca5945ac8e64695548407632": {
      "model_module": "@jupyter-widgets/controls",
      "model_module_version": "1.5.0",
      "model_name": "DescriptionStyleModel",
      "state": {
       "description_width": ""
      }
     },
     "68dc31883a9d44f08296562ad26a6d0d": {
      "model_module": "@jupyter-widgets/controls",
      "model_module_version": "1.5.0",
      "model_name": "HTMLModel",
      "state": {
       "layout": "IPY_MODEL_7f3ab6b2d74546a0931cb937c9d78d02",
       "style": "IPY_MODEL_68be77e2ca5945ac8e64695548407632",
       "value": "Select the number of societies you would like to compare\n                    <p><em></em><p>\n"
      }
     },
     "6916fa0cd7fb42dca6433ee493497f7b": {
      "model_module": "@jupyter-widgets/controls",
      "model_module_version": "1.5.0",
      "model_name": "DescriptionStyleModel",
      "state": {
       "description_width": ""
      }
     },
     "6a6048999acb4264bbbbbdb7f00a0038": {
      "model_module": "@jupyter-widgets/base",
      "model_module_version": "1.2.0",
      "model_name": "LayoutModel",
      "state": {}
     },
     "6abac6cc905644448d9c539afda57cf7": {
      "model_module": "@jupyter-widgets/controls",
      "model_module_version": "1.5.0",
      "model_name": "DropdownModel",
      "state": {
       "_options_labels": [
        "1",
        "2",
        "3",
        "4",
        "5",
        "6",
        "7",
        "8",
        "9",
        "10"
       ],
       "index": 1,
       "layout": "IPY_MODEL_d7585871a70d416497fdc55652e48c49",
       "style": "IPY_MODEL_c2346c8bdf5d40a68a1f82542fc4588a"
      }
     },
     "6dc373d17a124194a8c074b9a65be4f5": {
      "model_module": "@jupyter-widgets/base",
      "model_module_version": "1.2.0",
      "model_name": "LayoutModel",
      "state": {}
     },
     "6dc7712738fc4520bc87c0ec5022989f": {
      "model_module": "@jupyter-widgets/controls",
      "model_module_version": "1.5.0",
      "model_name": "DropdownModel",
      "state": {
       "_options_labels": [
        "1",
        "2",
        "3",
        "4",
        "5",
        "6",
        "7",
        "8",
        "9",
        "10"
       ],
       "index": 1,
       "layout": "IPY_MODEL_ecca95c1eb364a48ad45fa71e3a5d5c7",
       "style": "IPY_MODEL_ca875948874f40fb883035a8f7f067c5"
      }
     },
     "6eb93d09be4449a1babdf385c7d4412b": {
      "model_module": "@jupyter-widgets/base",
      "model_module_version": "1.2.0",
      "model_name": "LayoutModel",
      "state": {}
     },
     "70a1e239e07b4f09b7d8a0b2e97ae50b": {
      "model_module": "@jupyter-widgets/base",
      "model_module_version": "1.2.0",
      "model_name": "LayoutModel",
      "state": {}
     },
     "70c843785241457bb753d37436b1b822": {
      "model_module": "@jupyter-widgets/base",
      "model_module_version": "1.2.0",
      "model_name": "LayoutModel",
      "state": {
       "align_items": "center",
       "flex": "3 0 auto"
      }
     },
     "714d7a7bcf6146c3bee23608f37d71ed": {
      "model_module": "@jupyter-widgets/controls",
      "model_module_version": "1.5.0",
      "model_name": "VBoxModel",
      "state": {
       "children": [
        "IPY_MODEL_98604c38b76c415895c193de2bd09282"
       ],
       "layout": "IPY_MODEL_bcac6d5978a84ed3b27fe05261b4f0fc"
      }
     },
     "726f4c618f7d4bd18a114b0cb5f5a308": {
      "model_module": "@jupyter-widgets/base",
      "model_module_version": "1.2.0",
      "model_name": "LayoutModel",
      "state": {
       "flex": "1 1 auto",
       "margin": "0 auto 0 auto",
       "max_width": "1024px"
      }
     },
     "728d45f0f4874f4c8221b6748ff418fe": {
      "model_module": "@jupyter-widgets/controls",
      "model_module_version": "1.5.0",
      "model_name": "HBoxModel",
      "state": {
       "children": [
        "IPY_MODEL_7784243d75cd4151bb0cdf1c3d0ad279"
       ],
       "layout": "IPY_MODEL_9de2e142317e489f9d2d4a7e7e401564"
      }
     },
     "72ec52970cc341e8a846cf31eb2adb8a": {
      "model_module": "@jupyter-widgets/controls",
      "model_module_version": "1.5.0",
      "model_name": "HTMLModel",
      "state": {
       "layout": "IPY_MODEL_88425c37b73e43e2a0c0c25b07f813c5",
       "style": "IPY_MODEL_d204be25279e494a8629e05393d277e8",
       "value": "Select the number of societies you would like to compare\n                    <p><em></em><p>\n"
      }
     },
     "73e6ecd354da476b812881fdd9dc3f95": {
      "model_module": "@jupyter-widgets/base",
      "model_module_version": "1.2.0",
      "model_name": "LayoutModel",
      "state": {}
     },
     "747bc3931f3a44f8beb8d988fc009627": {
      "model_module": "@jupyter-widgets/controls",
      "model_module_version": "1.5.0",
      "model_name": "TextModel",
      "state": {
       "layout": "IPY_MODEL_6a6048999acb4264bbbbbdb7f00a0038",
       "style": "IPY_MODEL_11380ba5a44a4bbc9fa7d68241e394f4",
       "value": "1 2 3"
      }
     },
     "7637ec2c34ec4d6ca454cda1b67d7bfb": {
      "model_module": "@jupyter-widgets/controls",
      "model_module_version": "1.5.0",
      "model_name": "DescriptionStyleModel",
      "state": {
       "description_width": ""
      }
     },
     "763d2f2618e54636a2f6306516e8eb8e": {
      "model_module": "@jupyter-widgets/base",
      "model_module_version": "1.2.0",
      "model_name": "LayoutModel",
      "state": {
       "align_items": "center",
       "flex": "3 0 auto"
      }
     },
     "7784243d75cd4151bb0cdf1c3d0ad279": {
      "model_module": "@jupyter-widgets/controls",
      "model_module_version": "1.5.0",
      "model_name": "VBoxModel",
      "state": {
       "children": [
        "IPY_MODEL_900d3b2093ae4c51ae3d2b5363b7c519",
        "IPY_MODEL_0c37c4af168342a6a1e6ee7096504f41",
        "IPY_MODEL_789471a3167245a097224955dccb2039"
       ],
       "layout": "IPY_MODEL_e9283de936534641995075829f23ce95"
      }
     },
     "78329969d319411aa449a55e797ed8bc": {
      "model_module": "@jupyter-widgets/controls",
      "model_module_version": "1.5.0",
      "model_name": "VBoxModel",
      "state": {
       "children": [
        "IPY_MODEL_676491de6f80430da7ef24e2ac471cbd"
       ],
       "layout": "IPY_MODEL_3140c27e82d34f7183de0252482263e0"
      }
     },
     "789471a3167245a097224955dccb2039": {
      "model_module": "@jupyter-widgets/controls",
      "model_module_version": "1.5.0",
      "model_name": "HBoxModel",
      "state": {
       "children": [
        "IPY_MODEL_6760842394554db7b0f8a86ec563bb10",
        "IPY_MODEL_b9d0e935678f40d49b43e0f50a9e846a"
       ],
       "layout": "IPY_MODEL_af947240166b48619654afe431f96274"
      }
     },
     "799c126f99a848c099d2e50dea19ad02": {
      "model_module": "@jupyter-widgets/output",
      "model_module_version": "1.0.0",
      "model_name": "OutputModel",
      "state": {
       "layout": "IPY_MODEL_c006df412da84464915816ab17ea9c9b",
       "outputs": [
        {
         "data": {
          "text/plain": "<Figure size 800x560 with 1 Axes>"
         },
         "metadata": {},
         "output_type": "display_data"
        },
        {
         "name": "stdout",
         "output_type": "stream",
         "text": "Gini Value for United States in 1980: 0.345\nGini Value for United Kingdom in 2014: 0.318\n\n"
        }
       ]
      }
     },
     "7a775d458f8d4fabaef889349e43d212": {
      "model_module": "@jupyter-widgets/controls",
      "model_module_version": "1.5.0",
      "model_name": "VBoxModel",
      "state": {
       "children": [
        "IPY_MODEL_fcaf92fda78543a8bec20a00ef3b70b5",
        "IPY_MODEL_204343838c4a4ea495617edd3c867fa4"
       ],
       "layout": "IPY_MODEL_90bd655568bb4e5ea202ae313fdec8dd"
      }
     },
     "7ae28d87f2a8400181064452b10e4f9e": {
      "model_module": "@jupyter-widgets/controls",
      "model_module_version": "1.5.0",
      "model_name": "SliderStyleModel",
      "state": {
       "description_width": ""
      }
     },
     "7cfa1d566d1f47de8473533693977c0d": {
      "model_module": "@jupyter-widgets/controls",
      "model_module_version": "1.5.0",
      "model_name": "TextModel",
      "state": {
       "layout": "IPY_MODEL_acdf2ebd98064fc5938ed9294846014e",
       "style": "IPY_MODEL_f79491bc7931474d953e8aa2b3352957",
       "value": "1 2 3"
      }
     },
     "7d97a479fd484becad1acec82dd4f71a": {
      "model_module": "@jupyter-widgets/base",
      "model_module_version": "1.2.0",
      "model_name": "LayoutModel",
      "state": {
       "margin": "0 0 4em 0"
      }
     },
     "7e4dc602ae304eb8b3e7d884064b32a3": {
      "model_module": "@jupyter-widgets/controls",
      "model_module_version": "1.5.0",
      "model_name": "VBoxModel",
      "state": {
       "children": [
        "IPY_MODEL_2d6056726fb248cfba7ceb831599e9b4",
        "IPY_MODEL_728d45f0f4874f4c8221b6748ff418fe"
       ],
       "layout": "IPY_MODEL_56dd27dfe0da44848182920d69fc109d"
      }
     },
     "7f3ab6b2d74546a0931cb937c9d78d02": {
      "model_module": "@jupyter-widgets/base",
      "model_module_version": "1.2.0",
      "model_name": "LayoutModel",
      "state": {
       "margin": "0 0 4em 0"
      }
     },
     "7fb372ef01dd478fa871fb75844db5ce": {
      "model_module": "@jupyter-widgets/base",
      "model_module_version": "1.2.0",
      "model_name": "LayoutModel",
      "state": {}
     },
     "7fd93dedf407451e889db343253ceb18": {
      "model_module": "@jupyter-widgets/base",
      "model_module_version": "1.2.0",
      "model_name": "LayoutModel",
      "state": {
       "align_items": "center",
       "flex": "3 0 auto"
      }
     },
     "7ff1430ffb4747ebb89e49c3dd57a9d0": {
      "model_module": "@jupyter-widgets/base",
      "model_module_version": "1.2.0",
      "model_name": "LayoutModel",
      "state": {}
     },
     "8013b7de5a3445059ffc309fc7229565": {
      "model_module": "@jupyter-widgets/output",
      "model_module_version": "1.0.0",
      "model_name": "OutputModel",
      "state": {
       "layout": "IPY_MODEL_70a1e239e07b4f09b7d8a0b2e97ae50b",
       "outputs": [
        {
         "data": {
          "text/plain": "<Figure size 800x560 with 1 Axes>"
         },
         "metadata": {},
         "output_type": "display_data"
        }
       ]
      }
     },
     "80f7aab5295a4f44948b60415dcaff81": {
      "model_module": "@jupyter-widgets/base",
      "model_module_version": "1.2.0",
      "model_name": "LayoutModel",
      "state": {
       "align_items": "center",
       "flex": "3 0 auto"
      }
     },
     "8257caf2d023408ea1b1eecee7e59e9a": {
      "model_module": "@jupyter-widgets/controls",
      "model_module_version": "1.5.0",
      "model_name": "VBoxModel",
      "state": {
       "children": [
        "IPY_MODEL_7cfa1d566d1f47de8473533693977c0d"
       ],
       "layout": "IPY_MODEL_c4f3eb1229a040edb00631cd5e0b119a"
      }
     },
     "84a4c888d05d474baf4d26ee34adccc4": {
      "model_module": "@jupyter-widgets/controls",
      "model_module_version": "1.5.0",
      "model_name": "HBoxModel",
      "state": {
       "children": [
        "IPY_MODEL_64c19aeebae8442c8bd5978c424227b8"
       ],
       "layout": "IPY_MODEL_fccf3315ee10433f9ff3d1577eb75fc2"
      }
     },
     "84bee3a9a344483a935db79d8a8a3829": {
      "model_module": "@jupyter-widgets/base",
      "model_module_version": "1.2.0",
      "model_name": "LayoutModel",
      "state": {
       "width": "500px"
      }
     },
     "853df6c67aff43d29c1a69d18ffb9f5a": {
      "model_module": "@jupyter-widgets/base",
      "model_module_version": "1.2.0",
      "model_name": "LayoutModel",
      "state": {
       "align_items": "center",
       "flex": "3 0 auto"
      }
     },
     "860f70af139d4ac6989a9689ef76d1bf": {
      "model_module": "@jupyter-widgets/controls",
      "model_module_version": "1.5.0",
      "model_name": "VBoxModel",
      "state": {
       "children": [
        "IPY_MODEL_66e6262e2d6f4addae1b82009b97fb7d"
       ],
       "layout": "IPY_MODEL_ca5ca1ac7aef4c56955823722919ae51"
      }
     },
     "8659ccd1b95041de9dc148d9c87ccc29": {
      "model_module": "@jupyter-widgets/base",
      "model_module_version": "1.2.0",
      "model_name": "LayoutModel",
      "state": {}
     },
     "88425c37b73e43e2a0c0c25b07f813c5": {
      "model_module": "@jupyter-widgets/base",
      "model_module_version": "1.2.0",
      "model_name": "LayoutModel",
      "state": {
       "margin": "0 0 4em 0"
      }
     },
     "88ddcca54800490f82f6ccc027716992": {
      "model_module": "@jupyter-widgets/controls",
      "model_module_version": "1.5.0",
      "model_name": "VBoxModel",
      "state": {
       "children": [
        "IPY_MODEL_1833b3095ec7486ebbe9a45729d06ab6",
        "IPY_MODEL_088f22e2e287406994c7a425abded858",
        "IPY_MODEL_f571ddbc543d449b8b2a4408cbb4dcd2"
       ],
       "layout": "IPY_MODEL_e75f6d8f00f24261a4eeb4ab46c95b69"
      }
     },
     "88efb68efc3b476a90cf93f42ead4c75": {
      "model_module": "@jupyter-widgets/controls",
      "model_module_version": "1.5.0",
      "model_name": "DescriptionStyleModel",
      "state": {
       "description_width": ""
      }
     },
     "89141ab3742c4747bbf17dde15f9913a": {
      "model_module": "@jupyter-widgets/controls",
      "model_module_version": "1.5.0",
      "model_name": "DropdownModel",
      "state": {
       "_options_labels": [
        "Afghanistan",
        "Albania",
        "Algeria",
        "Angola",
        "Argentina",
        "Armenia",
        "Australia",
        "Austria",
        "Azerbaijan",
        "Bangladesh",
        "Belarus",
        "Belgium",
        "Benin",
        "Bolivia",
        "Botswana",
        "Brazil",
        "Bulgaria",
        "Burkina Faso",
        "Burundi",
        "Cambodia",
        "Cameroon",
        "Canada",
        "Central African Republic",
        "Chad",
        "Chile",
        "China",
        "Colombia",
        "Congo, Dem. Rep.",
        "Congo, Rep.",
        "Costa Rica",
        "Cote d'Ivoire",
        "Croatia",
        "Czech Republic",
        "Denmark",
        "Dominican Republic",
        "Ecuador",
        "Egypt",
        "El Salvador",
        "Estonia",
        "Ethiopia",
        "Finland",
        "France",
        "Germany",
        "Ghana",
        "Greece",
        "Guatemala",
        "Guinea",
        "Guinea-Bissau",
        "Haiti",
        "Honduras",
        "Hungary",
        "India",
        "Indonesia",
        "Iran",
        "Ireland",
        "Israel",
        "Italy",
        "Jamaica",
        "Japan",
        "Jordan",
        "Kazakhstan",
        "Kenya",
        "Korea, Rep.",
        "Kyrgyz Republic",
        "Lao",
        "Latvia",
        "Lesotho",
        "Liberia",
        "Lithuania",
        "Macedonia, FYR",
        "Madagascar",
        "Malawi",
        "Malaysia",
        "Mali",
        "Mauritania",
        "Mauritius",
        "Mexico",
        "Moldova",
        "Mongolia",
        "Morocco",
        "Mozambique",
        "Myanmar",
        "Namibia",
        "Nepal",
        "Netherlands",
        "Nicaragua",
        "Niger",
        "Nigeria",
        "Norway",
        "Pakistan",
        "Panama",
        "Papua New Guinea",
        "Paraguay",
        "Peru",
        "Philippines",
        "Poland",
        "Portugal",
        "Romania",
        "Russian Federation",
        "Rwanda",
        "Senegal",
        "Sierra Leone",
        "Slovak Republic",
        "Slovenia",
        "South Africa",
        "Spain",
        "Sri Lanka",
        "Sudan",
        "Sweden",
        "Switzerland",
        "Syrian Arab Republic",
        "Taiwan",
        "Tajikistan",
        "Tanzania",
        "Thailand",
        "Togo",
        "Trinidad and Tobago",
        "Tunisia",
        "Turkey",
        "Turkmenistan",
        "Ukraine",
        "United Kingdom",
        "United States",
        "Uruguay",
        "Uzbekistan",
        "Venezuela",
        "Vietnam",
        "West Bank and Gaza",
        "Zambia"
       ],
       "description": "Country:",
       "index": 122,
       "layout": "IPY_MODEL_4c587e361bcf4bb18c115a85675fae18",
       "style": "IPY_MODEL_89b86f5b38de4129b2d5ff38138e5093"
      }
     },
     "89687bc1712c43c8a91d76d5f435f161": {
      "model_module": "@jupyter-widgets/controls",
      "model_module_version": "1.5.0",
      "model_name": "VBoxModel",
      "state": {
       "children": [
        "IPY_MODEL_c16990992dab4f06858cf92674f10f50",
        "IPY_MODEL_e56f2d0cb7ee48f18739088614112b27"
       ],
       "layout": "IPY_MODEL_ae93f3c9b9744b4f9c6aaaef317e9a6b"
      }
     },
     "89b86f5b38de4129b2d5ff38138e5093": {
      "model_module": "@jupyter-widgets/controls",
      "model_module_version": "1.5.0",
      "model_name": "DescriptionStyleModel",
      "state": {
       "description_width": ""
      }
     },
     "8adf1ad08b6146c39fa7edf982b19c39": {
      "model_module": "@jupyter-widgets/controls",
      "model_module_version": "1.5.0",
      "model_name": "SliderStyleModel",
      "state": {
       "description_width": ""
      }
     },
     "8bebeb4f7fbb498ea7f972c500130ae2": {
      "model_module": "@jupyter-widgets/base",
      "model_module_version": "1.2.0",
      "model_name": "LayoutModel",
      "state": {}
     },
     "8befdabc36924649a45a9e503d0fb983": {
      "model_module": "@jupyter-widgets/controls",
      "model_module_version": "1.5.0",
      "model_name": "DescriptionStyleModel",
      "state": {
       "description_width": ""
      }
     },
     "8d5fcbe93ec74f8d8f4032e1d1950fe2": {
      "model_module": "@jupyter-widgets/base",
      "model_module_version": "1.2.0",
      "model_name": "LayoutModel",
      "state": {}
     },
     "8dc13ad615724883ab5e646512dee950": {
      "model_module": "@jupyter-widgets/base",
      "model_module_version": "1.2.0",
      "model_name": "LayoutModel",
      "state": {}
     },
     "900d3b2093ae4c51ae3d2b5363b7c519": {
      "model_module": "@jupyter-widgets/controls",
      "model_module_version": "1.5.0",
      "model_name": "VBoxModel",
      "state": {
       "children": [
        "IPY_MODEL_a6bb5e1fcee043d1ab7cc58230063cd6",
        "IPY_MODEL_48c557d2259b466d9e34a5b046979de1"
       ],
       "layout": "IPY_MODEL_616fcd1b277c47eda21976ae8258bc02"
      }
     },
     "90947d1b08ae49c0affcb8f4a594ddcc": {
      "model_module": "@jupyter-widgets/base",
      "model_module_version": "1.2.0",
      "model_name": "LayoutModel",
      "state": {}
     },
     "90bd655568bb4e5ea202ae313fdec8dd": {
      "model_module": "@jupyter-widgets/base",
      "model_module_version": "1.2.0",
      "model_name": "LayoutModel",
      "state": {
       "flex": "1 1 auto",
       "margin": "0 auto 0 auto",
       "max_width": "1024px"
      }
     },
     "92b6a8d1ca3f4ddc8fba83508049d8cc": {
      "model_module": "@jupyter-widgets/base",
      "model_module_version": "1.2.0",
      "model_name": "LayoutModel",
      "state": {
       "width": "500px"
      }
     },
     "95015e7517e044a6930770d34ac0d1d0": {
      "model_module": "@jupyter-widgets/controls",
      "model_module_version": "1.5.0",
      "model_name": "HTMLModel",
      "state": {
       "layout": "IPY_MODEL_da55508ed95d4bb98cf124001efe8e03",
       "style": "IPY_MODEL_2f57c16f613948939dc0c9ff24c21be8",
       "value": "\n                    <p>Enter income distrubtions below:\n\n                    "
      }
     },
     "952972ba2a904a319a2a1d98423455b5": {
      "model_module": "@jupyter-widgets/controls",
      "model_module_version": "1.5.0",
      "model_name": "DescriptionStyleModel",
      "state": {
       "description_width": ""
      }
     },
     "97a8346725034a5da6c28a8ab439e833": {
      "model_module": "@jupyter-widgets/base",
      "model_module_version": "1.2.0",
      "model_name": "LayoutModel",
      "state": {
       "flex": "1 1 auto",
       "margin": "0 auto 0 auto",
       "max_width": "1024px"
      }
     },
     "98604c38b76c415895c193de2bd09282": {
      "model_module": "@jupyter-widgets/controls",
      "model_module_version": "1.5.0",
      "model_name": "DropdownModel",
      "state": {
       "_options_labels": [
        "1",
        "2",
        "3",
        "4",
        "5",
        "6",
        "7",
        "8",
        "9",
        "10"
       ],
       "index": 1,
       "layout": "IPY_MODEL_460caa5242b4445cb2b526e934e46e46",
       "style": "IPY_MODEL_c5d7bbc0c7114f20a950157524949132"
      }
     },
     "9945d6398d694cc692a9714c4bed1f6a": {
      "model_module": "@jupyter-widgets/controls",
      "model_module_version": "1.5.0",
      "model_name": "SliderStyleModel",
      "state": {
       "description_width": ""
      }
     },
     "9b0e118e8038430d9e8eff84b83b1b8c": {
      "model_module": "@jupyter-widgets/base",
      "model_module_version": "1.2.0",
      "model_name": "LayoutModel",
      "state": {
       "flex": "1 1 auto",
       "margin": "0 auto 0 auto",
       "max_width": "1024px"
      }
     },
     "9ba3c6a3ed2648d5a0aab50984cded1e": {
      "model_module": "@jupyter-widgets/controls",
      "model_module_version": "1.5.0",
      "model_name": "HBoxModel",
      "state": {
       "children": [
        "IPY_MODEL_09fb9a6e77ce4503a5d561265d260ea4",
        "IPY_MODEL_55098abc39da486280fe8058fb425793"
       ],
       "layout": "IPY_MODEL_17a9694972454864b9851300c4f61b22"
      }
     },
     "9d053fe1409d48b3a7d680fcf98144c5": {
      "model_module": "@jupyter-widgets/controls",
      "model_module_version": "1.5.0",
      "model_name": "DescriptionStyleModel",
      "state": {
       "description_width": ""
      }
     },
     "9d4b804676f44760b99e90bb85aa8cc2": {
      "model_module": "@jupyter-widgets/controls",
      "model_module_version": "1.5.0",
      "model_name": "VBoxModel",
      "state": {
       "children": [
        "IPY_MODEL_a53bf553554040fd99141464cf0dd5c6",
        "IPY_MODEL_af88e3090cc546da9d35e38f9aab7bf3",
        "IPY_MODEL_5cc6d0f69890480aa9e3655b395ef532"
       ],
       "layout": "IPY_MODEL_80f7aab5295a4f44948b60415dcaff81"
      }
     },
     "9dd819207b524ef0bdc1fced63329bd4": {
      "model_module": "@jupyter-widgets/controls",
      "model_module_version": "1.5.0",
      "model_name": "HBoxModel",
      "state": {
       "children": [
        "IPY_MODEL_442e803e0b61424ea6e84c5648fc0530"
       ],
       "layout": "IPY_MODEL_4508135e7c7e46b3a43218311b6c2777"
      }
     },
     "9de2e142317e489f9d2d4a7e7e401564": {
      "model_module": "@jupyter-widgets/base",
      "model_module_version": "1.2.0",
      "model_name": "LayoutModel",
      "state": {}
     },
     "9e61c8936fc3465f94575589e348bce1": {
      "model_module": "@jupyter-widgets/base",
      "model_module_version": "1.2.0",
      "model_name": "LayoutModel",
      "state": {
       "flex": "1 1 auto",
       "margin": "0 auto 0 auto",
       "max_width": "1024px"
      }
     },
     "9f17f523f37948ee9845b5f27cc1c690": {
      "model_module": "@jupyter-widgets/base",
      "model_module_version": "1.2.0",
      "model_name": "LayoutModel",
      "state": {}
     },
     "9fc3d9da18b64742aa35929a610403ea": {
      "model_module": "@jupyter-widgets/base",
      "model_module_version": "1.2.0",
      "model_name": "LayoutModel",
      "state": {
       "margin": "0 0 4em 0"
      }
     },
     "9ff8985d30654ed4864b679a987b6812": {
      "model_module": "@jupyter-widgets/controls",
      "model_module_version": "1.5.0",
      "model_name": "VBoxModel",
      "state": {
       "children": [
        "IPY_MODEL_e8366a25c19a424d814ccfe66f7c8bf7",
        "IPY_MODEL_c3142bab21ea40afb25fe51aa59feafc"
       ],
       "layout": "IPY_MODEL_00c2d53632a849d592d96b478b08c7a6"
      }
     },
     "a17ca89991c440639932699452ec1132": {
      "model_module": "@jupyter-widgets/controls",
      "model_module_version": "1.5.0",
      "model_name": "DropdownModel",
      "state": {
       "_options_labels": [
        "Afghanistan",
        "Albania",
        "Algeria",
        "Angola",
        "Argentina",
        "Armenia",
        "Australia",
        "Austria",
        "Azerbaijan",
        "Bangladesh",
        "Belarus",
        "Belgium",
        "Benin",
        "Bolivia",
        "Botswana",
        "Brazil",
        "Bulgaria",
        "Burkina Faso",
        "Burundi",
        "Cambodia",
        "Cameroon",
        "Canada",
        "Central African Republic",
        "Chad",
        "Chile",
        "China",
        "Colombia",
        "Congo, Dem. Rep.",
        "Congo, Rep.",
        "Costa Rica",
        "Cote d'Ivoire",
        "Croatia",
        "Czech Republic",
        "Denmark",
        "Dominican Republic",
        "Ecuador",
        "Egypt",
        "El Salvador",
        "Estonia",
        "Ethiopia",
        "Finland",
        "France",
        "Germany",
        "Ghana",
        "Greece",
        "Guatemala",
        "Guinea",
        "Guinea-Bissau",
        "Haiti",
        "Honduras",
        "Hungary",
        "India",
        "Indonesia",
        "Iran",
        "Ireland",
        "Israel",
        "Italy",
        "Jamaica",
        "Japan",
        "Jordan",
        "Kazakhstan",
        "Kenya",
        "Korea, Rep.",
        "Kyrgyz Republic",
        "Lao",
        "Latvia",
        "Lesotho",
        "Liberia",
        "Lithuania",
        "Macedonia, FYR",
        "Madagascar",
        "Malawi",
        "Malaysia",
        "Mali",
        "Mauritania",
        "Mauritius",
        "Mexico",
        "Moldova",
        "Mongolia",
        "Morocco",
        "Mozambique",
        "Myanmar",
        "Namibia",
        "Nepal",
        "Netherlands",
        "Nicaragua",
        "Niger",
        "Nigeria",
        "Norway",
        "Pakistan",
        "Panama",
        "Papua New Guinea",
        "Paraguay",
        "Peru",
        "Philippines",
        "Poland",
        "Portugal",
        "Romania",
        "Russian Federation",
        "Rwanda",
        "Senegal",
        "Sierra Leone",
        "Slovak Republic",
        "Slovenia",
        "South Africa",
        "Spain",
        "Sri Lanka",
        "Sudan",
        "Sweden",
        "Switzerland",
        "Syrian Arab Republic",
        "Taiwan",
        "Tajikistan",
        "Tanzania",
        "Thailand",
        "Togo",
        "Trinidad and Tobago",
        "Tunisia",
        "Turkey",
        "Turkmenistan",
        "Ukraine",
        "United Kingdom",
        "United States",
        "Uruguay",
        "Uzbekistan",
        "Venezuela",
        "Vietnam",
        "West Bank and Gaza",
        "Zambia"
       ],
       "description": "Country 1:",
       "index": 122,
       "layout": "IPY_MODEL_8bebeb4f7fbb498ea7f972c500130ae2",
       "style": "IPY_MODEL_7637ec2c34ec4d6ca454cda1b67d7bfb"
      }
     },
     "a25706bc2b6a4de6a2d14b721def8381": {
      "model_module": "@jupyter-widgets/controls",
      "model_module_version": "1.5.0",
      "model_name": "HBoxModel",
      "state": {
       "children": [
        "IPY_MODEL_be2fc013693f4bd4974bcd7eccae6b24"
       ],
       "layout": "IPY_MODEL_58fbfc7114d34583bf7b48700b277279"
      }
     },
     "a3a1480ebcfd4cedb0aaada3c7a34b40": {
      "model_module": "@jupyter-widgets/base",
      "model_module_version": "1.2.0",
      "model_name": "LayoutModel",
      "state": {}
     },
     "a5063725e9e94f458001a6ab82e56956": {
      "model_module": "@jupyter-widgets/controls",
      "model_module_version": "1.5.0",
      "model_name": "DescriptionStyleModel",
      "state": {
       "description_width": ""
      }
     },
     "a53bf553554040fd99141464cf0dd5c6": {
      "model_module": "@jupyter-widgets/controls",
      "model_module_version": "1.5.0",
      "model_name": "HTMLModel",
      "state": {
       "layout": "IPY_MODEL_6203abe5ea604dceba01d5fe6f568bf3",
       "style": "IPY_MODEL_2b1be9ec21f34fdf8b11ccfc17a2fa94",
       "value": "\n                    <p>Enter income distrubtions below:\n\n                    "
      }
     },
     "a5d671b7835e4c1196bfd308dd64b814": {
      "model_module": "@jupyter-widgets/controls",
      "model_module_version": "1.5.0",
      "model_name": "VBoxModel",
      "state": {
       "children": [
        "IPY_MODEL_fc2becc8f3714c6eb292efcf5067f1cd",
        "IPY_MODEL_de688e852b914ea99fd5081aad7ff2a8"
       ],
       "layout": "IPY_MODEL_97a8346725034a5da6c28a8ab439e833"
      }
     },
     "a5f7df382e6f452da012d8f6d40307cf": {
      "model_module": "@jupyter-widgets/controls",
      "model_module_version": "1.5.0",
      "model_name": "VBoxModel",
      "state": {
       "children": [
        "IPY_MODEL_a81dbf3477464f92a23b209a5181c625",
        "IPY_MODEL_c222208409e74637be0adb2a7e285980",
        "IPY_MODEL_9ba3c6a3ed2648d5a0aab50984cded1e"
       ],
       "layout": "IPY_MODEL_b2d065d7a0be44cb92610a10eaf0f603"
      }
     },
     "a6bb5e1fcee043d1ab7cc58230063cd6": {
      "model_module": "@jupyter-widgets/controls",
      "model_module_version": "1.5.0",
      "model_name": "DropdownModel",
      "state": {
       "_options_labels": [
        "Afghanistan",
        "Albania",
        "Algeria",
        "Angola",
        "Argentina",
        "Armenia",
        "Australia",
        "Austria",
        "Azerbaijan",
        "Bangladesh",
        "Belarus",
        "Belgium",
        "Benin",
        "Bolivia",
        "Botswana",
        "Brazil",
        "Bulgaria",
        "Burkina Faso",
        "Burundi",
        "Cambodia",
        "Cameroon",
        "Canada",
        "Central African Republic",
        "Chad",
        "Chile",
        "China",
        "Colombia",
        "Congo, Dem. Rep.",
        "Congo, Rep.",
        "Costa Rica",
        "Cote d'Ivoire",
        "Croatia",
        "Czech Republic",
        "Denmark",
        "Dominican Republic",
        "Ecuador",
        "Egypt",
        "El Salvador",
        "Estonia",
        "Ethiopia",
        "Finland",
        "France",
        "Germany",
        "Ghana",
        "Greece",
        "Guatemala",
        "Guinea",
        "Guinea-Bissau",
        "Haiti",
        "Honduras",
        "Hungary",
        "India",
        "Indonesia",
        "Iran",
        "Ireland",
        "Israel",
        "Italy",
        "Jamaica",
        "Japan",
        "Jordan",
        "Kazakhstan",
        "Kenya",
        "Korea, Rep.",
        "Kyrgyz Republic",
        "Lao",
        "Latvia",
        "Lesotho",
        "Liberia",
        "Lithuania",
        "Macedonia, FYR",
        "Madagascar",
        "Malawi",
        "Malaysia",
        "Mali",
        "Mauritania",
        "Mauritius",
        "Mexico",
        "Moldova",
        "Mongolia",
        "Morocco",
        "Mozambique",
        "Myanmar",
        "Namibia",
        "Nepal",
        "Netherlands",
        "Nicaragua",
        "Niger",
        "Nigeria",
        "Norway",
        "Pakistan",
        "Panama",
        "Papua New Guinea",
        "Paraguay",
        "Peru",
        "Philippines",
        "Poland",
        "Portugal",
        "Romania",
        "Russian Federation",
        "Rwanda",
        "Senegal",
        "Sierra Leone",
        "Slovak Republic",
        "Slovenia",
        "South Africa",
        "Spain",
        "Sri Lanka",
        "Sudan",
        "Sweden",
        "Switzerland",
        "Syrian Arab Republic",
        "Taiwan",
        "Tajikistan",
        "Tanzania",
        "Thailand",
        "Togo",
        "Trinidad and Tobago",
        "Tunisia",
        "Turkey",
        "Turkmenistan",
        "Ukraine",
        "United Kingdom",
        "United States",
        "Uruguay",
        "Uzbekistan",
        "Venezuela",
        "Vietnam",
        "West Bank and Gaza",
        "Zambia"
       ],
       "description": "Country 1:",
       "index": 122,
       "layout": "IPY_MODEL_efa751beb5ff484eacde61408f146492",
       "style": "IPY_MODEL_3431ff6298b34c4789b8a01159ae0484"
      }
     },
     "a6de29a3f84e4a55aab826de2b6f74d7": {
      "model_module": "@jupyter-widgets/base",
      "model_module_version": "1.2.0",
      "model_name": "LayoutModel",
      "state": {}
     },
     "a81dbf3477464f92a23b209a5181c625": {
      "model_module": "@jupyter-widgets/controls",
      "model_module_version": "1.5.0",
      "model_name": "VBoxModel",
      "state": {
       "children": [
        "IPY_MODEL_a17ca89991c440639932699452ec1132",
        "IPY_MODEL_19a1a6d6f8ef4c098558eea46d2c1b19"
       ],
       "layout": "IPY_MODEL_f1c58ecceee646299c22feb448735ad9"
      }
     },
     "ab0f2bfbd1474f7db24f58aa7d45ea0d": {
      "model_module": "@jupyter-widgets/base",
      "model_module_version": "1.2.0",
      "model_name": "LayoutModel",
      "state": {
       "flex": "1 1 auto",
       "margin": "0 auto 0 auto",
       "max_width": "1024px"
      }
     },
     "ab5997e4ec1d4268961c041a55a71642": {
      "model_module": "@jupyter-widgets/controls",
      "model_module_version": "1.5.0",
      "model_name": "HTMLModel",
      "state": {
       "layout": "IPY_MODEL_c98729d92c424b1592efeff0d65e0f19",
       "style": "IPY_MODEL_dd83de0a25c5462995f1853d257a8743",
       "value": "Select the number of societies you would like to compare\n                    <p><em></em><p>\n"
      }
     },
     "ac9e11f84b2946dd8c331bc3fcc0acb2": {
      "model_module": "@jupyter-widgets/controls",
      "model_module_version": "1.5.0",
      "model_name": "DescriptionStyleModel",
      "state": {
       "description_width": ""
      }
     },
     "acdf2ebd98064fc5938ed9294846014e": {
      "model_module": "@jupyter-widgets/base",
      "model_module_version": "1.2.0",
      "model_name": "LayoutModel",
      "state": {}
     },
     "ae93f3c9b9744b4f9c6aaaef317e9a6b": {
      "model_module": "@jupyter-widgets/base",
      "model_module_version": "1.2.0",
      "model_name": "LayoutModel",
      "state": {
       "flex": "1 1 auto",
       "margin": "0 auto 0 auto",
       "max_width": "1024px"
      }
     },
     "af14a132cd8c42ce90daf75b353de933": {
      "model_module": "@jupyter-widgets/controls",
      "model_module_version": "1.5.0",
      "model_name": "VBoxModel",
      "state": {
       "children": [
        "IPY_MODEL_68dc31883a9d44f08296562ad26a6d0d",
        "IPY_MODEL_a25706bc2b6a4de6a2d14b721def8381"
       ],
       "layout": "IPY_MODEL_ab0f2bfbd1474f7db24f58aa7d45ea0d"
      }
     },
     "af4974d5f8cf45bcb7130df2658e5a91": {
      "model_module": "@jupyter-widgets/base",
      "model_module_version": "1.2.0",
      "model_name": "LayoutModel",
      "state": {}
     },
     "af88e3090cc546da9d35e38f9aab7bf3": {
      "model_module": "@jupyter-widgets/controls",
      "model_module_version": "1.5.0",
      "model_name": "VBoxModel",
      "state": {
       "children": [
        "IPY_MODEL_da2caf8601c44f76ac766bb33b0d91d9"
       ],
       "layout": "IPY_MODEL_f774f774536d4dbbaa280fe7b6e7f4c9"
      }
     },
     "af947240166b48619654afe431f96274": {
      "model_module": "@jupyter-widgets/base",
      "model_module_version": "1.2.0",
      "model_name": "LayoutModel",
      "state": {}
     },
     "b090c93e3b9647919d3e5c05bc9d1396": {
      "model_module": "@jupyter-widgets/controls",
      "model_module_version": "1.5.0",
      "model_name": "DropdownModel",
      "state": {
       "_options_labels": [
        "Afghanistan",
        "Albania",
        "Algeria",
        "Angola",
        "Argentina",
        "Armenia",
        "Australia",
        "Austria",
        "Azerbaijan",
        "Bangladesh",
        "Belarus",
        "Belgium",
        "Benin",
        "Bolivia",
        "Botswana",
        "Brazil",
        "Bulgaria",
        "Burkina Faso",
        "Burundi",
        "Cambodia",
        "Cameroon",
        "Canada",
        "Central African Republic",
        "Chad",
        "Chile",
        "China",
        "Colombia",
        "Congo, Dem. Rep.",
        "Congo, Rep.",
        "Costa Rica",
        "Cote d'Ivoire",
        "Croatia",
        "Czech Republic",
        "Denmark",
        "Dominican Republic",
        "Ecuador",
        "Egypt",
        "El Salvador",
        "Estonia",
        "Ethiopia",
        "Finland",
        "France",
        "Germany",
        "Ghana",
        "Greece",
        "Guatemala",
        "Guinea",
        "Guinea-Bissau",
        "Haiti",
        "Honduras",
        "Hungary",
        "India",
        "Indonesia",
        "Iran",
        "Ireland",
        "Israel",
        "Italy",
        "Jamaica",
        "Japan",
        "Jordan",
        "Kazakhstan",
        "Kenya",
        "Korea, Rep.",
        "Kyrgyz Republic",
        "Lao",
        "Latvia",
        "Lesotho",
        "Liberia",
        "Lithuania",
        "Macedonia, FYR",
        "Madagascar",
        "Malawi",
        "Malaysia",
        "Mali",
        "Mauritania",
        "Mauritius",
        "Mexico",
        "Moldova",
        "Mongolia",
        "Morocco",
        "Mozambique",
        "Myanmar",
        "Namibia",
        "Nepal",
        "Netherlands",
        "Nicaragua",
        "Niger",
        "Nigeria",
        "Norway",
        "Pakistan",
        "Panama",
        "Papua New Guinea",
        "Paraguay",
        "Peru",
        "Philippines",
        "Poland",
        "Portugal",
        "Romania",
        "Russian Federation",
        "Rwanda",
        "Senegal",
        "Sierra Leone",
        "Slovak Republic",
        "Slovenia",
        "South Africa",
        "Spain",
        "Sri Lanka",
        "Sudan",
        "Sweden",
        "Switzerland",
        "Syrian Arab Republic",
        "Taiwan",
        "Tajikistan",
        "Tanzania",
        "Thailand",
        "Togo",
        "Trinidad and Tobago",
        "Tunisia",
        "Turkey",
        "Turkmenistan",
        "Ukraine",
        "United Kingdom",
        "United States",
        "Uruguay",
        "Uzbekistan",
        "Venezuela",
        "Vietnam",
        "West Bank and Gaza",
        "Zambia"
       ],
       "index": 122,
       "layout": "IPY_MODEL_b1e8936b4bd64d1197e4c27357d97b94",
       "style": "IPY_MODEL_07119d993d9c4dedb6d397504189e8ff"
      }
     },
     "b1e8936b4bd64d1197e4c27357d97b94": {
      "model_module": "@jupyter-widgets/base",
      "model_module_version": "1.2.0",
      "model_name": "LayoutModel",
      "state": {}
     },
     "b2d065d7a0be44cb92610a10eaf0f603": {
      "model_module": "@jupyter-widgets/base",
      "model_module_version": "1.2.0",
      "model_name": "LayoutModel",
      "state": {
       "align_items": "center",
       "flex": "3 0 auto"
      }
     },
     "b3bdf1a6c84147d68b268f0a4252c326": {
      "model_module": "@jupyter-widgets/controls",
      "model_module_version": "1.5.0",
      "model_name": "DescriptionStyleModel",
      "state": {
       "description_width": ""
      }
     },
     "b3c0e5c1b3374383a8941c5f4ed8163e": {
      "model_module": "@jupyter-widgets/controls",
      "model_module_version": "1.5.0",
      "model_name": "DescriptionStyleModel",
      "state": {
       "description_width": ""
      }
     },
     "b561819d1d0f45d393cb05adb2bd9656": {
      "model_module": "@jupyter-widgets/base",
      "model_module_version": "1.2.0",
      "model_name": "LayoutModel",
      "state": {}
     },
     "b6034275914044c08f98d1bc8257120c": {
      "model_module": "@jupyter-widgets/base",
      "model_module_version": "1.2.0",
      "model_name": "LayoutModel",
      "state": {
       "align_items": "center",
       "flex": "3 0 auto"
      }
     },
     "b63b553f54ef4a6a8ead624f8be5684d": {
      "model_module": "@jupyter-widgets/base",
      "model_module_version": "1.2.0",
      "model_name": "LayoutModel",
      "state": {}
     },
     "b738a28fa4264ec399998e4afe45cd29": {
      "model_module": "@jupyter-widgets/controls",
      "model_module_version": "1.5.0",
      "model_name": "DescriptionStyleModel",
      "state": {
       "description_width": ""
      }
     },
     "b86564ceebb343a298a6eabeefeb216d": {
      "model_module": "@jupyter-widgets/controls",
      "model_module_version": "1.5.0",
      "model_name": "VBoxModel",
      "state": {
       "children": [
        "IPY_MODEL_06df8e49ddf042feafb738e78d577b23",
        "IPY_MODEL_dd13f1b05dc440c9afe2750dec73c666",
        "IPY_MODEL_44234b2c7631418280ca5f5e996bcbc4"
       ],
       "layout": "IPY_MODEL_853df6c67aff43d29c1a69d18ffb9f5a"
      }
     },
     "b964bc125059438da420ed052c590784": {
      "model_module": "@jupyter-widgets/controls",
      "model_module_version": "1.5.0",
      "model_name": "VBoxModel",
      "state": {
       "children": [
        "IPY_MODEL_139a3883e317486288c068df556bbccf"
       ],
       "layout": "IPY_MODEL_0afabe4abb864aae9a2008e0859c83ef"
      }
     },
     "b9d0e935678f40d49b43e0f50a9e846a": {
      "model_module": "@jupyter-widgets/controls",
      "model_module_version": "1.5.0",
      "model_name": "IntRangeSliderModel",
      "state": {
       "_model_name": "IntRangeSliderModel",
       "_view_name": "IntRangeSliderView",
       "layout": "IPY_MODEL_68b471b1a89a4f4aa13d76c81bf2681f",
       "max": 2014,
       "min": 1980,
       "style": "IPY_MODEL_7ae28d87f2a8400181064452b10e4f9e",
       "value": [
        1980,
        2014
       ]
      }
     },
     "b9dff42faf0a4e4086bfcd5ccfb1ef99": {
      "model_module": "@jupyter-widgets/controls",
      "model_module_version": "1.5.0",
      "model_name": "HTMLModel",
      "state": {
       "layout": "IPY_MODEL_7d97a479fd484becad1acec82dd4f71a",
       "style": "IPY_MODEL_f06e03d053a24557952b016f40b5688c",
       "value": "<h1>Compare Ginis over time</h1>\n                    <p><em></em><p>\n                    \n                    <br>To change the number of countries, change the number above and rerun this block. \n"
      }
     },
     "b9e707f574ef482ea713c6d4e99be99a": {
      "model_module": "@jupyter-widgets/base",
      "model_module_version": "1.2.0",
      "model_name": "LayoutModel",
      "state": {}
     },
     "bb274baf910a4f75874e3c7a1233ee27": {
      "model_module": "@jupyter-widgets/base",
      "model_module_version": "1.2.0",
      "model_name": "LayoutModel",
      "state": {}
     },
     "bb6b7be2771c4c5685bf8fdea1aa768a": {
      "model_module": "@jupyter-widgets/controls",
      "model_module_version": "1.5.0",
      "model_name": "DescriptionStyleModel",
      "state": {
       "description_width": ""
      }
     },
     "bbcbde9057014b25990a414d12beb396": {
      "model_module": "@jupyter-widgets/output",
      "model_module_version": "1.0.0",
      "model_name": "OutputModel",
      "state": {
       "layout": "IPY_MODEL_a3a1480ebcfd4cedb0aaada3c7a34b40",
       "outputs": [
        {
         "data": {
          "text/plain": "<Figure size 1000x700 with 1 Axes>"
         },
         "metadata": {},
         "output_type": "display_data"
        }
       ]
      }
     },
     "bcac6d5978a84ed3b27fe05261b4f0fc": {
      "model_module": "@jupyter-widgets/base",
      "model_module_version": "1.2.0",
      "model_name": "LayoutModel",
      "state": {}
     },
     "be2fc013693f4bd4974bcd7eccae6b24": {
      "model_module": "@jupyter-widgets/controls",
      "model_module_version": "1.5.0",
      "model_name": "VBoxModel",
      "state": {
       "children": [
        "IPY_MODEL_714d7a7bcf6146c3bee23608f37d71ed"
       ],
       "layout": "IPY_MODEL_763d2f2618e54636a2f6306516e8eb8e"
      }
     },
     "c006df412da84464915816ab17ea9c9b": {
      "model_module": "@jupyter-widgets/base",
      "model_module_version": "1.2.0",
      "model_name": "LayoutModel",
      "state": {}
     },
     "c1177c4e1c184dcca9723b3231d76b3a": {
      "model_module": "@jupyter-widgets/controls",
      "model_module_version": "1.5.0",
      "model_name": "VBoxModel",
      "state": {
       "children": [
        "IPY_MODEL_6abac6cc905644448d9c539afda57cf7"
       ],
       "layout": "IPY_MODEL_b561819d1d0f45d393cb05adb2bd9656"
      }
     },
     "c16990992dab4f06858cf92674f10f50": {
      "model_module": "@jupyter-widgets/controls",
      "model_module_version": "1.5.0",
      "model_name": "HTMLModel",
      "state": {
       "layout": "IPY_MODEL_3d2b2a2e7adb4a2ba827727601bec2e2",
       "style": "IPY_MODEL_02eeecd694314acf9c4e2a723716f4d7",
       "value": "<h1>Compare Ginis over time</h1>\n                    <p><em></em><p>\n                    \n                    <br>To change the number of countries, change the number above and rerun this block. \n"
      }
     },
     "c222208409e74637be0adb2a7e285980": {
      "model_module": "@jupyter-widgets/output",
      "model_module_version": "1.0.0",
      "model_name": "OutputModel",
      "state": {
       "layout": "IPY_MODEL_7fb372ef01dd478fa871fb75844db5ce",
       "outputs": [
        {
         "data": {
          "image/png": "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\n",
          "text/plain": "<Figure size 720x504 with 1 Axes>"
         },
         "metadata": {
          "needs_background": "light"
         },
         "output_type": "display_data"
        }
       ]
      }
     },
     "c2346c8bdf5d40a68a1f82542fc4588a": {
      "model_module": "@jupyter-widgets/controls",
      "model_module_version": "1.5.0",
      "model_name": "DescriptionStyleModel",
      "state": {
       "description_width": ""
      }
     },
     "c3142bab21ea40afb25fe51aa59feafc": {
      "model_module": "@jupyter-widgets/controls",
      "model_module_version": "1.5.0",
      "model_name": "HBoxModel",
      "state": {
       "children": [
        "IPY_MODEL_fd83e1dbedf04a618b692d24e73809c4"
       ],
       "layout": "IPY_MODEL_faca6ec711fa4cb5b7ef6fa407f8d335"
      }
     },
     "c35b074104a24dcca74be23a9bcd9372": {
      "model_module": "@jupyter-widgets/controls",
      "model_module_version": "1.5.0",
      "model_name": "DescriptionStyleModel",
      "state": {
       "description_width": ""
      }
     },
     "c363e768b5d3446fa64109e8ce6d5a80": {
      "model_module": "@jupyter-widgets/base",
      "model_module_version": "1.2.0",
      "model_name": "LayoutModel",
      "state": {
       "flex": "1 1 auto",
       "margin": "0 auto 0 auto",
       "max_width": "1024px"
      }
     },
     "c36af4b76be14848b57456fa9e897671": {
      "model_module": "@jupyter-widgets/base",
      "model_module_version": "1.2.0",
      "model_name": "LayoutModel",
      "state": {}
     },
     "c4a23bc6490546dd92388b37cdb8fd9f": {
      "model_module": "@jupyter-widgets/controls",
      "model_module_version": "1.5.0",
      "model_name": "DropdownModel",
      "state": {
       "_options_labels": [
        "Afghanistan",
        "Albania",
        "Algeria",
        "Angola",
        "Argentina",
        "Armenia",
        "Australia",
        "Austria",
        "Azerbaijan",
        "Bangladesh",
        "Belarus",
        "Belgium",
        "Benin",
        "Bolivia",
        "Botswana",
        "Brazil",
        "Bulgaria",
        "Burkina Faso",
        "Burundi",
        "Cambodia",
        "Cameroon",
        "Canada",
        "Central African Republic",
        "Chad",
        "Chile",
        "China",
        "Colombia",
        "Congo, Dem. Rep.",
        "Congo, Rep.",
        "Costa Rica",
        "Cote d'Ivoire",
        "Croatia",
        "Czech Republic",
        "Denmark",
        "Dominican Republic",
        "Ecuador",
        "Egypt",
        "El Salvador",
        "Estonia",
        "Ethiopia",
        "Finland",
        "France",
        "Germany",
        "Ghana",
        "Greece",
        "Guatemala",
        "Guinea",
        "Guinea-Bissau",
        "Haiti",
        "Honduras",
        "Hungary",
        "India",
        "Indonesia",
        "Iran",
        "Ireland",
        "Israel",
        "Italy",
        "Jamaica",
        "Japan",
        "Jordan",
        "Kazakhstan",
        "Kenya",
        "Korea, Rep.",
        "Kyrgyz Republic",
        "Lao",
        "Latvia",
        "Lesotho",
        "Liberia",
        "Lithuania",
        "Macedonia, FYR",
        "Madagascar",
        "Malawi",
        "Malaysia",
        "Mali",
        "Mauritania",
        "Mauritius",
        "Mexico",
        "Moldova",
        "Mongolia",
        "Morocco",
        "Mozambique",
        "Myanmar",
        "Namibia",
        "Nepal",
        "Netherlands",
        "Nicaragua",
        "Niger",
        "Nigeria",
        "Norway",
        "Pakistan",
        "Panama",
        "Papua New Guinea",
        "Paraguay",
        "Peru",
        "Philippines",
        "Poland",
        "Portugal",
        "Romania",
        "Russian Federation",
        "Rwanda",
        "Senegal",
        "Sierra Leone",
        "Slovak Republic",
        "Slovenia",
        "South Africa",
        "Spain",
        "Sri Lanka",
        "Sudan",
        "Sweden",
        "Switzerland",
        "Syrian Arab Republic",
        "Taiwan",
        "Tajikistan",
        "Tanzania",
        "Thailand",
        "Togo",
        "Trinidad and Tobago",
        "Tunisia",
        "Turkey",
        "Turkmenistan",
        "Ukraine",
        "United Kingdom",
        "United States",
        "Uruguay",
        "Uzbekistan",
        "Venezuela",
        "Vietnam",
        "West Bank and Gaza",
        "Zambia"
       ],
       "description": "Country 1:",
       "index": 122,
       "layout": "IPY_MODEL_dea84ba89ab3476e833e5714f5714a33",
       "style": "IPY_MODEL_f355b73c54c44766a93f9caf6db3666c"
      }
     },
     "c4f3eb1229a040edb00631cd5e0b119a": {
      "model_module": "@jupyter-widgets/base",
      "model_module_version": "1.2.0",
      "model_name": "LayoutModel",
      "state": {}
     },
     "c5d7bbc0c7114f20a950157524949132": {
      "model_module": "@jupyter-widgets/controls",
      "model_module_version": "1.5.0",
      "model_name": "DescriptionStyleModel",
      "state": {
       "description_width": ""
      }
     },
     "c63d6b098c4b4b6abcd556111b964c8e": {
      "model_module": "@jupyter-widgets/base",
      "model_module_version": "1.2.0",
      "model_name": "LayoutModel",
      "state": {
       "margin": "0 0 4em 0"
      }
     },
     "c6cafdecf5174aa286cde9e5f21b3696": {
      "model_module": "@jupyter-widgets/base",
      "model_module_version": "1.2.0",
      "model_name": "LayoutModel",
      "state": {}
     },
     "c98729d92c424b1592efeff0d65e0f19": {
      "model_module": "@jupyter-widgets/base",
      "model_module_version": "1.2.0",
      "model_name": "LayoutModel",
      "state": {
       "margin": "0 0 4em 0"
      }
     },
     "c9c2214119fd4a4286531c4857bcc08c": {
      "model_module": "@jupyter-widgets/base",
      "model_module_version": "1.2.0",
      "model_name": "LayoutModel",
      "state": {}
     },
     "c9ffb0a5c85445d08bb1b5b44e58f472": {
      "model_module": "@jupyter-widgets/base",
      "model_module_version": "1.2.0",
      "model_name": "LayoutModel",
      "state": {}
     },
     "ca5ca1ac7aef4c56955823722919ae51": {
      "model_module": "@jupyter-widgets/base",
      "model_module_version": "1.2.0",
      "model_name": "LayoutModel",
      "state": {}
     },
     "ca875948874f40fb883035a8f7f067c5": {
      "model_module": "@jupyter-widgets/controls",
      "model_module_version": "1.5.0",
      "model_name": "DescriptionStyleModel",
      "state": {
       "description_width": ""
      }
     },
     "cb229373f3f64050a27d700d06067c76": {
      "model_module": "@jupyter-widgets/controls",
      "model_module_version": "1.5.0",
      "model_name": "DescriptionStyleModel",
      "state": {
       "description_width": ""
      }
     },
     "cc56c443f7694adb9dec80325ba9120a": {
      "model_module": "@jupyter-widgets/controls",
      "model_module_version": "1.5.0",
      "model_name": "DescriptionStyleModel",
      "state": {
       "description_width": ""
      }
     },
     "d1b045f60fee42ffa25f54850226e592": {
      "model_module": "@jupyter-widgets/controls",
      "model_module_version": "1.5.0",
      "model_name": "HBoxModel",
      "state": {
       "children": [
        "IPY_MODEL_e6819c3be74d41d6807ce43774dc4872"
       ],
       "layout": "IPY_MODEL_a6de29a3f84e4a55aab826de2b6f74d7"
      }
     },
     "d204be25279e494a8629e05393d277e8": {
      "model_module": "@jupyter-widgets/controls",
      "model_module_version": "1.5.0",
      "model_name": "DescriptionStyleModel",
      "state": {
       "description_width": ""
      }
     },
     "d226fb53519e493a8cbea36070e81c09": {
      "model_module": "@jupyter-widgets/base",
      "model_module_version": "1.2.0",
      "model_name": "LayoutModel",
      "state": {
       "margin": "0 0 4em 0"
      }
     },
     "d4973f01cb354b9581b301c52c939361": {
      "model_module": "@jupyter-widgets/controls",
      "model_module_version": "1.5.0",
      "model_name": "VBoxModel",
      "state": {
       "children": [
        "IPY_MODEL_4c18bc8b4c784a2d9d2fbba7688347f7",
        "IPY_MODEL_8257caf2d023408ea1b1eecee7e59e9a",
        "IPY_MODEL_dd2d0ea8afa94e45ae6fbd546ad4783f"
       ],
       "layout": "IPY_MODEL_19c694c9d1bd458c994d474fcde6e913"
      }
     },
     "d557b7a06d294946a5ad7a59bf548a9e": {
      "model_module": "@jupyter-widgets/base",
      "model_module_version": "1.2.0",
      "model_name": "LayoutModel",
      "state": {
       "margin": "0 0 4em 0"
      }
     },
     "d589c9cc8b3d4e08af706b0dae70e4b6": {
      "model_module": "@jupyter-widgets/controls",
      "model_module_version": "1.5.0",
      "model_name": "VBoxModel",
      "state": {
       "children": [
        "IPY_MODEL_6067346a65ae4086bc6cc38a430275d0",
        "IPY_MODEL_9dd819207b524ef0bdc1fced63329bd4"
       ],
       "layout": "IPY_MODEL_18abdb44a2bd4711849b2d80dc5ca6c2"
      }
     },
     "d64419011e9f44c9aea16ec4ed9142da": {
      "model_module": "@jupyter-widgets/controls",
      "model_module_version": "1.5.0",
      "model_name": "DropdownModel",
      "state": {
       "_options_labels": [
        "1980",
        "1981",
        "1982",
        "1983",
        "1984",
        "1985",
        "1986",
        "1987",
        "1988",
        "1989",
        "1990",
        "1991",
        "1992",
        "1993",
        "1994",
        "1995",
        "1996",
        "1997",
        "1998",
        "1999",
        "2000",
        "2001",
        "2002",
        "2003",
        "2004",
        "2005",
        "2006",
        "2007",
        "2008",
        "2009",
        "2010",
        "2011",
        "2012",
        "2013",
        "2014"
       ],
       "index": 0,
       "layout": "IPY_MODEL_b63b553f54ef4a6a8ead624f8be5684d",
       "style": "IPY_MODEL_88efb68efc3b476a90cf93f42ead4c75"
      }
     },
     "d654330ad7934e2a9e82c77b524a4ba7": {
      "model_module": "@jupyter-widgets/controls",
      "model_module_version": "1.5.0",
      "model_name": "VBoxModel",
      "state": {
       "children": [
        "IPY_MODEL_747bc3931f3a44f8beb8d988fc009627"
       ],
       "layout": "IPY_MODEL_8659ccd1b95041de9dc148d9c87ccc29"
      }
     },
     "d73b9f37be7645ff9d4218e98c359962": {
      "model_module": "@jupyter-widgets/base",
      "model_module_version": "1.2.0",
      "model_name": "LayoutModel",
      "state": {}
     },
     "d7450ac433214cd0a4fb0f0fe491fc80": {
      "model_module": "@jupyter-widgets/base",
      "model_module_version": "1.2.0",
      "model_name": "LayoutModel",
      "state": {}
     },
     "d7585871a70d416497fdc55652e48c49": {
      "model_module": "@jupyter-widgets/base",
      "model_module_version": "1.2.0",
      "model_name": "LayoutModel",
      "state": {}
     },
     "d87f3fde22344436a3fcd4957220a152": {
      "model_module": "@jupyter-widgets/controls",
      "model_module_version": "1.5.0",
      "model_name": "HTMLModel",
      "state": {
       "layout": "IPY_MODEL_c63d6b098c4b4b6abcd556111b964c8e",
       "style": "IPY_MODEL_c35b074104a24dcca74be23a9bcd9372",
       "value": "<h1>Create your own LCs & Ginis from income distributions</h1>\n                    <p><em>Enter in the income distribution for each society, values seperated by a space</em><p>\n\n                     <br>The income distributions do not need to be in order, can have different population sizes and total income.\n\n                    <br>To change the number of societies, change the number above and rerun this block. \n                   \n                    "
      }
     },
     "da2caf8601c44f76ac766bb33b0d91d9": {
      "model_module": "@jupyter-widgets/controls",
      "model_module_version": "1.5.0",
      "model_name": "TextModel",
      "state": {
       "layout": "IPY_MODEL_513ef96050154c83818526be7ea05534",
       "style": "IPY_MODEL_29fab6f2add4454f8a71e3fd2d0e8473",
       "value": "1 2 3"
      }
     },
     "da55508ed95d4bb98cf124001efe8e03": {
      "model_module": "@jupyter-widgets/base",
      "model_module_version": "1.2.0",
      "model_name": "LayoutModel",
      "state": {}
     },
     "dad8ba36a27e4b1484d7485311c8360b": {
      "model_module": "@jupyter-widgets/base",
      "model_module_version": "1.2.0",
      "model_name": "LayoutModel",
      "state": {}
     },
     "dd13f1b05dc440c9afe2750dec73c666": {
      "model_module": "@jupyter-widgets/output",
      "model_module_version": "1.0.0",
      "model_name": "OutputModel",
      "state": {
       "layout": "IPY_MODEL_e52b21343a474f6ba95572cd189b15e5",
       "outputs": [
        {
         "data": {
          "text/plain": "<Figure size 1000x700 with 1 Axes>"
         },
         "metadata": {},
         "output_type": "display_data"
        }
       ]
      }
     },
     "dd1a56420c3148448161fe437cccd86e": {
      "model_module": "@jupyter-widgets/base",
      "model_module_version": "1.2.0",
      "model_name": "LayoutModel",
      "state": {
       "width": "500px"
      }
     },
     "dd2d0ea8afa94e45ae6fbd546ad4783f": {
      "model_module": "@jupyter-widgets/output",
      "model_module_version": "1.0.0",
      "model_name": "OutputModel",
      "state": {
       "layout": "IPY_MODEL_c9ffb0a5c85445d08bb1b5b44e58f472",
       "outputs": [
        {
         "name": "stdout",
         "output_type": "stream",
         "text": "Gini Value 1: 0.222\n\n"
        }
       ]
      }
     },
     "dd83de0a25c5462995f1853d257a8743": {
      "model_module": "@jupyter-widgets/controls",
      "model_module_version": "1.5.0",
      "model_name": "DescriptionStyleModel",
      "state": {
       "description_width": ""
      }
     },
     "de688e852b914ea99fd5081aad7ff2a8": {
      "model_module": "@jupyter-widgets/controls",
      "model_module_version": "1.5.0",
      "model_name": "HBoxModel",
      "state": {
       "children": [
        "IPY_MODEL_d4973f01cb354b9581b301c52c939361"
       ],
       "layout": "IPY_MODEL_e7e934e1225c4090adec2209c09b8d22"
      }
     },
     "dea84ba89ab3476e833e5714f5714a33": {
      "model_module": "@jupyter-widgets/base",
      "model_module_version": "1.2.0",
      "model_name": "LayoutModel",
      "state": {}
     },
     "df7451b88b60426d95a7ce8f7d14daef": {
      "model_module": "@jupyter-widgets/base",
      "model_module_version": "1.2.0",
      "model_name": "LayoutModel",
      "state": {}
     },
     "e09be4e5f8174b178a7422bdc63b3a8e": {
      "model_module": "@jupyter-widgets/controls",
      "model_module_version": "1.5.0",
      "model_name": "VBoxModel",
      "state": {
       "children": [
        "IPY_MODEL_b964bc125059438da420ed052c590784"
       ],
       "layout": "IPY_MODEL_7fd93dedf407451e889db343253ceb18"
      }
     },
     "e3f91561c75f4103b8c4dcd694d0ba46": {
      "model_module": "@jupyter-widgets/controls",
      "model_module_version": "1.5.0",
      "model_name": "VBoxModel",
      "state": {
       "children": [
        "IPY_MODEL_5a7e862e66ce4b5e8d89ded50c077d41",
        "IPY_MODEL_faf038b5199841cd8b90351c849a71bf"
       ],
       "layout": "IPY_MODEL_9b0e118e8038430d9e8eff84b83b1b8c"
      }
     },
     "e52b21343a474f6ba95572cd189b15e5": {
      "model_module": "@jupyter-widgets/base",
      "model_module_version": "1.2.0",
      "model_name": "LayoutModel",
      "state": {}
     },
     "e56f2d0cb7ee48f18739088614112b27": {
      "model_module": "@jupyter-widgets/controls",
      "model_module_version": "1.5.0",
      "model_name": "HBoxModel",
      "state": {
       "children": [
        "IPY_MODEL_a5f7df382e6f452da012d8f6d40307cf"
       ],
       "layout": "IPY_MODEL_4bce2efe301045bb922560ec322c399f"
      }
     },
     "e6819c3be74d41d6807ce43774dc4872": {
      "model_module": "@jupyter-widgets/controls",
      "model_module_version": "1.5.0",
      "model_name": "VBoxModel",
      "state": {
       "children": [
        "IPY_MODEL_eeb0f0744624434ea1735b320fa33f04"
       ],
       "layout": "IPY_MODEL_2ae74e0739fc4fad8a5fbfa826b1befd"
      }
     },
     "e743172730c04ff18c33de5b54e18900": {
      "model_module": "@jupyter-widgets/controls",
      "model_module_version": "1.5.0",
      "model_name": "DropdownModel",
      "state": {
       "_options_labels": [
        "Decile 1 Income",
        "Decile 2 Income",
        "Decile 3 Income",
        "Decile 4 Income",
        "Decile 5 Income",
        "Decile 6 Income",
        "Decile 7 Income",
        "Decile 8 Income",
        "Decile 9 Income",
        "Decile 10 Income"
       ],
       "index": 8,
       "layout": "IPY_MODEL_8d5fcbe93ec74f8d8f4032e1d1950fe2",
       "style": "IPY_MODEL_3d8aa9f8e8ed44b0aeb302de20ea8aa8"
      }
     },
     "e75f6d8f00f24261a4eeb4ab46c95b69": {
      "model_module": "@jupyter-widgets/base",
      "model_module_version": "1.2.0",
      "model_name": "LayoutModel",
      "state": {
       "align_items": "center",
       "flex": "3 0 auto"
      }
     },
     "e79bec610db24ee0b3f033b7b2b413a8": {
      "model_module": "@jupyter-widgets/controls",
      "model_module_version": "1.5.0",
      "model_name": "LabelModel",
      "state": {
       "layout": "IPY_MODEL_253dad85deaa43a08d3d9630a5bb8acf",
       "style": "IPY_MODEL_a5063725e9e94f458001a6ab82e56956",
       "value": "Year range: "
      }
     },
     "e7e934e1225c4090adec2209c09b8d22": {
      "model_module": "@jupyter-widgets/base",
      "model_module_version": "1.2.0",
      "model_name": "LayoutModel",
      "state": {}
     },
     "e8366a25c19a424d814ccfe66f7c8bf7": {
      "model_module": "@jupyter-widgets/controls",
      "model_module_version": "1.5.0",
      "model_name": "HTMLModel",
      "state": {
       "layout": "IPY_MODEL_4fd29a4b3e004f5d807fcdd4b0a0b89a",
       "style": "IPY_MODEL_cb229373f3f64050a27d700d06067c76",
       "value": "<h1>Your Own Inequality Measure</h1>\n                    <p><em>Select two different income deciles for one country</em><p>\n                    \n                    \n\n<p>The metric will take your first income decile and divide it by your second.\n\n<br> You have the option to compare your measure to the Rich/Poor Ratio and the Gini (which we will learn about later but is more comprehensive than the Rich/Poor)\n\n<br>The incomes used for this ratio are in 2005 $ PPP. \n"
      }
     },
     "e83c292ccc9043b7a53c0f71ac6ca7b0": {
      "model_module": "@jupyter-widgets/controls",
      "model_module_version": "1.5.0",
      "model_name": "IntRangeSliderModel",
      "state": {
       "_model_name": "IntRangeSliderModel",
       "_view_name": "IntRangeSliderView",
       "layout": "IPY_MODEL_92b6a8d1ca3f4ddc8fba83508049d8cc",
       "max": 2014,
       "min": 1980,
       "style": "IPY_MODEL_9945d6398d694cc692a9714c4bed1f6a",
       "value": [
        1980,
        2014
       ]
      }
     },
     "e9283de936534641995075829f23ce95": {
      "model_module": "@jupyter-widgets/base",
      "model_module_version": "1.2.0",
      "model_name": "LayoutModel",
      "state": {
       "align_items": "center",
       "flex": "3 0 auto"
      }
     },
     "eadbdde9e0d6445e8649f456d649eb54": {
      "model_module": "@jupyter-widgets/controls",
      "model_module_version": "1.5.0",
      "model_name": "IntRangeSliderModel",
      "state": {
       "_model_name": "IntRangeSliderModel",
       "_view_name": "IntRangeSliderView",
       "layout": "IPY_MODEL_dd1a56420c3148448161fe437cccd86e",
       "max": 2014,
       "min": 1980,
       "style": "IPY_MODEL_3bd25dc055a448b0a1b31fead4dfec82",
       "value": [
        1980,
        2014
       ]
      }
     },
     "eb82448a3f3e4d77ac6a5e2f18e88af6": {
      "model_module": "@jupyter-widgets/base",
      "model_module_version": "1.2.0",
      "model_name": "LayoutModel",
      "state": {
       "flex": "1 1 auto",
       "margin": "0 auto 0 auto",
       "max_width": "1024px"
      }
     },
     "ecca95c1eb364a48ad45fa71e3a5d5c7": {
      "model_module": "@jupyter-widgets/base",
      "model_module_version": "1.2.0",
      "model_name": "LayoutModel",
      "state": {}
     },
     "ecd20f5a773148cc8e8f4721d97fa5b2": {
      "model_module": "@jupyter-widgets/controls",
      "model_module_version": "1.5.0",
      "model_name": "VBoxModel",
      "state": {
       "children": [
        "IPY_MODEL_fdbe88caae6d49c9bf9578fb3e18bb06",
        "IPY_MODEL_84a4c888d05d474baf4d26ee34adccc4"
       ],
       "layout": "IPY_MODEL_67255577890a42f495953f68ec0aec65"
      }
     },
     "ee82de26a08145fa9863c686ee82544d": {
      "model_module": "@jupyter-widgets/base",
      "model_module_version": "1.2.0",
      "model_name": "LayoutModel",
      "state": {
       "margin": "0 0 0 2em"
      }
     },
     "eeb0f0744624434ea1735b320fa33f04": {
      "model_module": "@jupyter-widgets/controls",
      "model_module_version": "1.5.0",
      "model_name": "VBoxModel",
      "state": {
       "children": [
        "IPY_MODEL_6dc7712738fc4520bc87c0ec5022989f"
       ],
       "layout": "IPY_MODEL_0d64b24ab7b34a68b11cf9a24630fe34"
      }
     },
     "efa751beb5ff484eacde61408f146492": {
      "model_module": "@jupyter-widgets/base",
      "model_module_version": "1.2.0",
      "model_name": "LayoutModel",
      "state": {}
     },
     "f06e03d053a24557952b016f40b5688c": {
      "model_module": "@jupyter-widgets/controls",
      "model_module_version": "1.5.0",
      "model_name": "DescriptionStyleModel",
      "state": {
       "description_width": ""
      }
     },
     "f0bb36e62fa44c0da7ed983b649b1b03": {
      "model_module": "@jupyter-widgets/controls",
      "model_module_version": "1.5.0",
      "model_name": "DropdownModel",
      "state": {
       "_options_labels": [
        "Afghanistan",
        "Albania",
        "Algeria",
        "Angola",
        "Argentina",
        "Armenia",
        "Australia",
        "Austria",
        "Azerbaijan",
        "Bangladesh",
        "Belarus",
        "Belgium",
        "Benin",
        "Bolivia",
        "Botswana",
        "Brazil",
        "Bulgaria",
        "Burkina Faso",
        "Burundi",
        "Cambodia",
        "Cameroon",
        "Canada",
        "Central African Republic",
        "Chad",
        "Chile",
        "China",
        "Colombia",
        "Congo, Dem. Rep.",
        "Congo, Rep.",
        "Costa Rica",
        "Cote d'Ivoire",
        "Croatia",
        "Czech Republic",
        "Denmark",
        "Dominican Republic",
        "Ecuador",
        "Egypt",
        "El Salvador",
        "Estonia",
        "Ethiopia",
        "Finland",
        "France",
        "Germany",
        "Ghana",
        "Greece",
        "Guatemala",
        "Guinea",
        "Guinea-Bissau",
        "Haiti",
        "Honduras",
        "Hungary",
        "India",
        "Indonesia",
        "Iran",
        "Ireland",
        "Israel",
        "Italy",
        "Jamaica",
        "Japan",
        "Jordan",
        "Kazakhstan",
        "Kenya",
        "Korea, Rep.",
        "Kyrgyz Republic",
        "Lao",
        "Latvia",
        "Lesotho",
        "Liberia",
        "Lithuania",
        "Macedonia, FYR",
        "Madagascar",
        "Malawi",
        "Malaysia",
        "Mali",
        "Mauritania",
        "Mauritius",
        "Mexico",
        "Moldova",
        "Mongolia",
        "Morocco",
        "Mozambique",
        "Myanmar",
        "Namibia",
        "Nepal",
        "Netherlands",
        "Nicaragua",
        "Niger",
        "Nigeria",
        "Norway",
        "Pakistan",
        "Panama",
        "Papua New Guinea",
        "Paraguay",
        "Peru",
        "Philippines",
        "Poland",
        "Portugal",
        "Romania",
        "Russian Federation",
        "Rwanda",
        "Senegal",
        "Sierra Leone",
        "Slovak Republic",
        "Slovenia",
        "South Africa",
        "Spain",
        "Sri Lanka",
        "Sudan",
        "Sweden",
        "Switzerland",
        "Syrian Arab Republic",
        "Taiwan",
        "Tajikistan",
        "Tanzania",
        "Thailand",
        "Togo",
        "Trinidad and Tobago",
        "Tunisia",
        "Turkey",
        "Turkmenistan",
        "Ukraine",
        "United Kingdom",
        "United States",
        "Uruguay",
        "Uzbekistan",
        "Venezuela",
        "Vietnam",
        "West Bank and Gaza",
        "Zambia"
       ],
       "index": 121,
       "layout": "IPY_MODEL_09b66307ff004234b0c8328d3180fa94",
       "style": "IPY_MODEL_0e46d01f02324fee8a5049ad6777f66c"
      }
     },
     "f0f7471dc1c94114a04b505ed9a81a44": {
      "model_module": "@jupyter-widgets/controls",
      "model_module_version": "1.5.0",
      "model_name": "VBoxModel",
      "state": {
       "children": [
        "IPY_MODEL_4cd785c9fa114311b9cf954e339a0066",
        "IPY_MODEL_1537723605d848f4bbde7769a8e9cd62",
        "IPY_MODEL_2e478c52a6394357bc69f95409747eaa",
        "IPY_MODEL_799c126f99a848c099d2e50dea19ad02"
       ],
       "layout": "IPY_MODEL_70c843785241457bb753d37436b1b822"
      }
     },
     "f138c51c92f34f20a0b3dbe14a4dfdeb": {
      "model_module": "@jupyter-widgets/controls",
      "model_module_version": "1.5.0",
      "model_name": "DescriptionStyleModel",
      "state": {
       "description_width": ""
      }
     },
     "f1c58ecceee646299c22feb448735ad9": {
      "model_module": "@jupyter-widgets/base",
      "model_module_version": "1.2.0",
      "model_name": "LayoutModel",
      "state": {}
     },
     "f355b73c54c44766a93f9caf6db3666c": {
      "model_module": "@jupyter-widgets/controls",
      "model_module_version": "1.5.0",
      "model_name": "DescriptionStyleModel",
      "state": {
       "description_width": ""
      }
     },
     "f391f13eb77940ea9f4d69ca362c82b7": {
      "model_module": "@jupyter-widgets/base",
      "model_module_version": "1.2.0",
      "model_name": "LayoutModel",
      "state": {}
     },
     "f3ab25cf81f046129b4a81c78ab65935": {
      "model_module": "@jupyter-widgets/controls",
      "model_module_version": "1.5.0",
      "model_name": "DescriptionStyleModel",
      "state": {
       "description_width": ""
      }
     },
     "f414a961bfaa4343b43571b76b83ac6b": {
      "model_module": "@jupyter-widgets/base",
      "model_module_version": "1.2.0",
      "model_name": "LayoutModel",
      "state": {}
     },
     "f571ddbc543d449b8b2a4408cbb4dcd2": {
      "model_module": "@jupyter-widgets/controls",
      "model_module_version": "1.5.0",
      "model_name": "HBoxModel",
      "state": {
       "children": [
        "IPY_MODEL_3656799cbe674bb1afe0b4eb4176f2fc",
        "IPY_MODEL_3af7bbb9e1f44cd79d476a513633e2d2"
       ],
       "layout": "IPY_MODEL_c36af4b76be14848b57456fa9e897671"
      }
     },
     "f774f774536d4dbbaa280fe7b6e7f4c9": {
      "model_module": "@jupyter-widgets/base",
      "model_module_version": "1.2.0",
      "model_name": "LayoutModel",
      "state": {}
     },
     "f79491bc7931474d953e8aa2b3352957": {
      "model_module": "@jupyter-widgets/controls",
      "model_module_version": "1.5.0",
      "model_name": "DescriptionStyleModel",
      "state": {
       "description_width": ""
      }
     },
     "f80ba8150ab74acc8877b74c8435c9cc": {
      "model_module": "@jupyter-widgets/controls",
      "model_module_version": "1.5.0",
      "model_name": "DescriptionStyleModel",
      "state": {
       "description_width": ""
      }
     },
     "f9b5091ff1404526afab4df2d36581a6": {
      "model_module": "@jupyter-widgets/controls",
      "model_module_version": "1.5.0",
      "model_name": "DescriptionStyleModel",
      "state": {
       "description_width": ""
      }
     },
     "faca6ec711fa4cb5b7ef6fa407f8d335": {
      "model_module": "@jupyter-widgets/base",
      "model_module_version": "1.2.0",
      "model_name": "LayoutModel",
      "state": {}
     },
     "faf038b5199841cd8b90351c849a71bf": {
      "model_module": "@jupyter-widgets/controls",
      "model_module_version": "1.5.0",
      "model_name": "HBoxModel",
      "state": {
       "children": [
        "IPY_MODEL_f0f7471dc1c94114a04b505ed9a81a44"
       ],
       "layout": "IPY_MODEL_0039c4145ff34a1185f1d37c8e0684c5"
      }
     },
     "fc2becc8f3714c6eb292efcf5067f1cd": {
      "model_module": "@jupyter-widgets/controls",
      "model_module_version": "1.5.0",
      "model_name": "HTMLModel",
      "state": {
       "layout": "IPY_MODEL_038b86ac492d48dfacf00704c2818381",
       "style": "IPY_MODEL_ac9e11f84b2946dd8c331bc3fcc0acb2",
       "value": "<h1>Find Gini from income distributions</h1>\n                    <p><em>Enter in the income distribution for each society, values seperated by a space</em><p>\n\n                    \n                    <br>The income distributions do not need to be in order, can have different population sizes and total income.\n\n                    <br>To change the number of societies, change the number above and rerun this block. \n                    "
      }
     },
     "fcaf92fda78543a8bec20a00ef3b70b5": {
      "model_module": "@jupyter-widgets/controls",
      "model_module_version": "1.5.0",
      "model_name": "HTMLModel",
      "state": {
       "layout": "IPY_MODEL_3f273ebbdee7468191ace1c4a5191269",
       "style": "IPY_MODEL_30526129ff8946ecaf699a371875eb1f",
       "value": "<h2>Income deciles for a specified country</h2>\n                    \n                    <br>Each line represents the average income in the n-th decile. \n                    \n                    <br>The bottom line is the average income of the poorest 10% and the top line is the average income of the richest 10%. \n                    \n                    <br>The incomes are in 2005 $ PPP (purchasing power parity) which makes it possible to compare across currency and time.\n                    \n                    <br>If you select a different country, the graph will auto-update. Likewise, you can change the year range using the slider."
      }
     },
     "fcbfb6238a244d82903f63ed6034781e": {
      "model_module": "@jupyter-widgets/base",
      "model_module_version": "1.2.0",
      "model_name": "LayoutModel",
      "state": {}
     },
     "fccf3315ee10433f9ff3d1577eb75fc2": {
      "model_module": "@jupyter-widgets/base",
      "model_module_version": "1.2.0",
      "model_name": "LayoutModel",
      "state": {}
     },
     "fd83e1dbedf04a618b692d24e73809c4": {
      "model_module": "@jupyter-widgets/controls",
      "model_module_version": "1.5.0",
      "model_name": "VBoxModel",
      "state": {
       "children": [
        "IPY_MODEL_25ed341328044e3e9a9c0cbc6f259120",
        "IPY_MODEL_18d703e745324ee4a671ba1ab6c0c3f2",
        "IPY_MODEL_bbcbde9057014b25990a414d12beb396",
        "IPY_MODEL_3003d86e5fb941f69e95689a7a6cc260"
       ],
       "layout": "IPY_MODEL_b6034275914044c08f98d1bc8257120c"
      }
     },
     "fdbe88caae6d49c9bf9578fb3e18bb06": {
      "model_module": "@jupyter-widgets/controls",
      "model_module_version": "1.5.0",
      "model_name": "HTMLModel",
      "state": {
       "layout": "IPY_MODEL_d226fb53519e493a8cbea36070e81c09",
       "style": "IPY_MODEL_bb6b7be2771c4c5685bf8fdea1aa768a",
       "value": "Select the number of societies you would like to compare\n                    <p><em></em><p>\n"
      }
     },
     "fdc0654fb0944824ba1adad412f4232d": {
      "model_module": "@jupyter-widgets/base",
      "model_module_version": "1.2.0",
      "model_name": "LayoutModel",
      "state": {}
     },
     "fdc45647f15a458f9f4bcd8a04477a68": {
      "model_module": "@jupyter-widgets/controls",
      "model_module_version": "1.5.0",
      "model_name": "VBoxModel",
      "state": {
       "children": [
        "IPY_MODEL_500117a915bd4d1db0d943036b4d96c8",
        "IPY_MODEL_5046339f6c5b40308edafc06c76fa3cf"
       ],
       "layout": "IPY_MODEL_726f4c618f7d4bd18a114b0cb5f5a308"
      }
     }
    },
    "version_major": 2,
    "version_minor": 0
   }
  }
 },
 "nbformat": 4,
 "nbformat_minor": 5
}
